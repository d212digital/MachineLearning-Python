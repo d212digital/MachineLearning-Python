{
 "cells": [
  {
   "cell_type": "markdown",
   "metadata": {},
   "source": [
    "# DecisionTreeClassifier - using make_moons dataset"
   ]
  },
  {
   "cell_type": "code",
   "execution_count": 1,
   "metadata": {},
   "outputs": [],
   "source": [
    "# Lets start by importing the necessary libraries and data structures.\n",
    "\n",
    "# the dataset we'll be using for our model is the moons dataset\n",
    "from sklearn.datasets import make_moons\n",
    "\n",
    "# Import libraries needed for this project\n",
    "import pandas as pd\n",
    "from sklearn.metrics import mean_squared_error, r2_score\n",
    "import numpy as np\n",
    "import matplotlib.pyplot as plt\n",
    "%matplotlib inline\n",
    "\n",
    "# Import the DecisionTreeClassifier from sklearn.tree & GridSearchCV from sklearn.model_selection.\n",
    "\n",
    "from sklearn.model_selection import GridSearchCV\n",
    "from sklearn.tree import DecisionTreeClassifier"
   ]
  },
  {
   "cell_type": "code",
   "execution_count": 2,
   "metadata": {},
   "outputs": [
    {
     "data": {
      "text/html": [
       "<div>\n",
       "<style scoped>\n",
       "    .dataframe tbody tr th:only-of-type {\n",
       "        vertical-align: middle;\n",
       "    }\n",
       "\n",
       "    .dataframe tbody tr th {\n",
       "        vertical-align: top;\n",
       "    }\n",
       "\n",
       "    .dataframe thead th {\n",
       "        text-align: right;\n",
       "    }\n",
       "</style>\n",
       "<table border=\"1\" class=\"dataframe\">\n",
       "  <thead>\n",
       "    <tr style=\"text-align: right;\">\n",
       "      <th></th>\n",
       "      <th>0</th>\n",
       "      <th>1</th>\n",
       "    </tr>\n",
       "  </thead>\n",
       "  <tbody>\n",
       "    <tr>\n",
       "      <th>0</th>\n",
       "      <td>1.761446</td>\n",
       "      <td>-0.148228</td>\n",
       "    </tr>\n",
       "    <tr>\n",
       "      <th>1</th>\n",
       "      <td>0.481607</td>\n",
       "      <td>-0.355143</td>\n",
       "    </tr>\n",
       "    <tr>\n",
       "      <th>2</th>\n",
       "      <td>0.967948</td>\n",
       "      <td>-0.499486</td>\n",
       "    </tr>\n",
       "    <tr>\n",
       "      <th>3</th>\n",
       "      <td>0.345365</td>\n",
       "      <td>0.938468</td>\n",
       "    </tr>\n",
       "    <tr>\n",
       "      <th>4</th>\n",
       "      <td>-0.284528</td>\n",
       "      <td>0.958668</td>\n",
       "    </tr>\n",
       "    <tr>\n",
       "      <th>...</th>\n",
       "      <td>...</td>\n",
       "      <td>...</td>\n",
       "    </tr>\n",
       "    <tr>\n",
       "      <th>95</th>\n",
       "      <td>-0.981559</td>\n",
       "      <td>0.191159</td>\n",
       "    </tr>\n",
       "    <tr>\n",
       "      <th>96</th>\n",
       "      <td>-0.222521</td>\n",
       "      <td>0.974928</td>\n",
       "    </tr>\n",
       "    <tr>\n",
       "      <th>97</th>\n",
       "      <td>-0.801414</td>\n",
       "      <td>0.598111</td>\n",
       "    </tr>\n",
       "    <tr>\n",
       "      <th>98</th>\n",
       "      <td>0.595217</td>\n",
       "      <td>-0.414413</td>\n",
       "    </tr>\n",
       "    <tr>\n",
       "      <th>99</th>\n",
       "      <td>1.222521</td>\n",
       "      <td>-0.474928</td>\n",
       "    </tr>\n",
       "  </tbody>\n",
       "</table>\n",
       "<p>100 rows × 2 columns</p>\n",
       "</div>"
      ],
      "text/plain": [
       "           0         1\n",
       "0   1.761446 -0.148228\n",
       "1   0.481607 -0.355143\n",
       "2   0.967948 -0.499486\n",
       "3   0.345365  0.938468\n",
       "4  -0.284528  0.958668\n",
       "..       ...       ...\n",
       "95 -0.981559  0.191159\n",
       "96 -0.222521  0.974928\n",
       "97 -0.801414  0.598111\n",
       "98  0.595217 -0.414413\n",
       "99  1.222521 -0.474928\n",
       "\n",
       "[100 rows x 2 columns]"
      ]
     },
     "execution_count": 2,
     "metadata": {},
     "output_type": "execute_result"
    }
   ],
   "source": [
    "# Loading/viewing the dataset to see shape etc.\n",
    "\n",
    "data = make_moons()\n",
    "dataset = pd.DataFrame(data[0]) # data[0] is the data\n",
    "dataset"
   ]
  },
  {
   "cell_type": "code",
   "execution_count": 3,
   "metadata": {},
   "outputs": [],
   "source": [
    "# Let's import the module train_test_split().\n",
    "\n",
    "from sklearn.model_selection import train_test_split\n",
    "\n",
    "# Generate a moons dataset using make_moons(n_samples=10000, noise=0.4).\n",
    "# Here we'll also split the dataset into a training set and a test set using train_test_split().\n",
    "\n",
    "X, y = make_moons(n_samples=10000, noise=0.4, random_state=42)\n",
    "\n",
    "X_train, X_test, y_train, y_test = train_test_split(X, y, test_size=0.33, random_state=42)"
   ]
  },
  {
   "cell_type": "code",
   "execution_count": 4,
   "metadata": {},
   "outputs": [
    {
     "name": "stdout",
     "output_type": "stream",
     "text": [
      "Fitting 3 folds for each of 294 candidates, totalling 882 fits\n"
     ]
    },
    {
     "data": {
      "text/plain": [
       "DecisionTreeClassifier(max_leaf_nodes=24, random_state=42)"
      ]
     },
     "execution_count": 4,
     "metadata": {},
     "output_type": "execute_result"
    }
   ],
   "source": [
    "# Use grid search with cross-validation (with the help of the GridSearchCV class) to find good hyperparameter values for a \n",
    "# DecisionTreeClassifier. Hint: try various values for max_leaf_nodes.\n",
    "\n",
    "params = {'max_leaf_nodes': list(range(2, 100)), 'min_samples_split': [2, 3, 4]}\n",
    "grid_search_cv = GridSearchCV(DecisionTreeClassifier(random_state=42), params, n_jobs=-1, verbose=1, cv=3)\n",
    "grid_search_cv.fit(X_train, y_train)\n",
    "grid_search_cv.best_estimator_\n"
   ]
  },
  {
   "cell_type": "code",
   "execution_count": 5,
   "metadata": {},
   "outputs": [],
   "source": [
    "# Lets import the DecisionTreeClassifier Model from the library here\n",
    "# We will add the classifier to the model and then fit the model to the training data.\n",
    "\n",
    "from sklearn.tree import DecisionTreeClassifier\n",
    "clf = DecisionTreeClassifier(ccp_alpha=0.01, max_depth=5, class_weight=None, criterion='gini', max_leaf_nodes=24, random_state=42)\n",
    "clf = clf.fit(X_train, y_train)"
   ]
  },
  {
   "cell_type": "code",
   "execution_count": 6,
   "metadata": {},
   "outputs": [
    {
     "data": {
      "text/plain": [
       "{'ccp_alpha': 0.01,\n",
       " 'class_weight': None,\n",
       " 'criterion': 'gini',\n",
       " 'max_depth': 5,\n",
       " 'max_features': None,\n",
       " 'max_leaf_nodes': 24,\n",
       " 'min_impurity_decrease': 0.0,\n",
       " 'min_samples_leaf': 1,\n",
       " 'min_samples_split': 2,\n",
       " 'min_weight_fraction_leaf': 0.0,\n",
       " 'random_state': 42,\n",
       " 'splitter': 'best'}"
      ]
     },
     "execution_count": 6,
     "metadata": {},
     "output_type": "execute_result"
    }
   ],
   "source": [
    "# Checking the model default paremeters. In the above cell we could use \n",
    "# max_leaf_nodes = 50, min_samples_split = 2.\n",
    "# or max_depth to control the tree depth, we'll use default params for now.\n",
    "\n",
    "clf.get_params()"
   ]
  },
  {
   "cell_type": "code",
   "execution_count": 7,
   "metadata": {},
   "outputs": [
    {
     "data": {
      "text/plain": [
       "array([1, 1, 0, ..., 1, 1, 0], dtype=int64)"
      ]
     },
     "execution_count": 7,
     "metadata": {},
     "output_type": "execute_result"
    }
   ],
   "source": [
    "# Here we'll check the predictions on the test set that the model predicts\n",
    "# rather than the answers that we give it. \n",
    "# Represented by 1 and 0.\n",
    "\n",
    "predictions = clf.predict(X_test)\n",
    "predictions"
   ]
  },
  {
   "cell_type": "code",
   "execution_count": 8,
   "metadata": {},
   "outputs": [
    {
     "data": {
      "text/plain": [
       "array([[ 0.69945888, -0.8734481 ],\n",
       "       [ 1.7764418 ,  0.13222334],\n",
       "       [-1.14450821,  0.24446319],\n",
       "       ...,\n",
       "       [ 2.26645104, -0.21310316],\n",
       "       [ 0.71579141,  0.05925783],\n",
       "       [-0.59614597,  1.16168672]])"
      ]
     },
     "execution_count": 8,
     "metadata": {},
     "output_type": "execute_result"
    }
   ],
   "source": [
    "# Lets view the models predictions\n",
    "\n",
    "X_test"
   ]
  },
  {
   "cell_type": "code",
   "execution_count": 9,
   "metadata": {},
   "outputs": [
    {
     "data": {
      "text/plain": [
       "array([[0.07766522, 0.92233478],\n",
       "       [0.30481283, 0.69518717],\n",
       "       [0.88755981, 0.11244019],\n",
       "       ...,\n",
       "       [0.07766522, 0.92233478],\n",
       "       [0.30481283, 0.69518717],\n",
       "       [0.86934491, 0.13065509]])"
      ]
     },
     "execution_count": 9,
     "metadata": {},
     "output_type": "execute_result"
    }
   ],
   "source": [
    "# Here we can see the probability of the model however, \n",
    "# if we add max_depth=4 in the clf = DecisionTreeClassifier() parameters above, \n",
    "# then the model is less sure about the predictions because we have stopped it growing \n",
    "# so for now we'll stick with this for our purposes.\n",
    "\n",
    "clf.predict_proba(X_test)"
   ]
  },
  {
   "cell_type": "code",
   "execution_count": 10,
   "metadata": {},
   "outputs": [
    {
     "name": "stdout",
     "output_type": "stream",
     "text": [
      "DecisionTreeClassifier() \n",
      "\n",
      "|--- feature_1 <= 0.25\n",
      "|   |--- feature_0 <= -0.47\n",
      "|   |   |--- feature_0 <= -0.66\n",
      "|   |   |   |--- feature_1 <= -0.91\n",
      "|   |   |   |   |--- class: 1\n",
      "|   |   |   |--- feature_1 >  -0.91\n",
      "|   |   |   |   |--- feature_1 <= 0.25\n",
      "|   |   |   |   |   |--- feature_0 <= -0.79\n",
      "|   |   |   |   |   |   |--- feature_1 <= 0.13\n",
      "|   |   |   |   |   |   |   |--- class: 0\n",
      "|   |   |   |   |   |   |--- feature_1 >  0.13\n",
      "|   |   |   |   |   |   |   |--- feature_1 <= 0.13\n",
      "|   |   |   |   |   |   |   |   |--- class: 1\n",
      "|   |   |   |   |   |   |   |--- feature_1 >  0.13\n",
      "|   |   |   |   |   |   |   |   |--- class: 0\n",
      "|   |   |   |   |   |--- feature_0 >  -0.79\n",
      "|   |   |   |   |   |   |--- feature_0 <= -0.78\n",
      "|   |   |   |   |   |   |   |--- class: 1\n",
      "|   |   |   |   |   |   |--- feature_0 >  -0.78\n",
      "|   |   |   |   |   |   |   |--- feature_1 <= 0.13\n",
      "|   |   |   |   |   |   |   |   |--- class: 0\n",
      "|   |   |   |   |   |   |   |--- feature_1 >  0.13\n",
      "|   |   |   |   |   |   |   |   |--- feature_1 <= 0.15\n",
      "|   |   |   |   |   |   |   |   |   |--- class: 1\n",
      "|   |   |   |   |   |   |   |   |--- feature_1 >  0.15\n",
      "|   |   |   |   |   |   |   |   |   |--- class: 0\n",
      "|   |   |   |   |--- feature_1 >  0.25\n",
      "|   |   |   |   |   |--- feature_1 <= 0.25\n",
      "|   |   |   |   |   |   |--- class: 1\n",
      "|   |   |   |   |   |--- feature_1 >  0.25\n",
      "|   |   |   |   |   |   |--- class: 0\n",
      "|   |   |--- feature_0 >  -0.66\n",
      "|   |   |   |--- feature_1 <= -0.04\n",
      "|   |   |   |   |--- feature_0 <= -0.57\n",
      "|   |   |   |   |   |--- feature_1 <= -0.85\n",
      "|   |   |   |   |   |   |--- class: 0\n",
      "|   |   |   |   |   |--- feature_1 >  -0.85\n",
      "|   |   |   |   |   |   |--- feature_1 <= -0.25\n",
      "|   |   |   |   |   |   |   |--- class: 1\n",
      "|   |   |   |   |   |   |--- feature_1 >  -0.25\n",
      "|   |   |   |   |   |   |   |--- feature_0 <= -0.61\n",
      "|   |   |   |   |   |   |   |   |--- class: 0\n",
      "|   |   |   |   |   |   |   |--- feature_0 >  -0.61\n",
      "|   |   |   |   |   |   |   |   |--- class: 1\n",
      "|   |   |   |   |--- feature_0 >  -0.57\n",
      "|   |   |   |   |   |--- feature_1 <= -0.07\n",
      "|   |   |   |   |   |   |--- feature_1 <= -0.63\n",
      "|   |   |   |   |   |   |   |--- class: 1\n",
      "|   |   |   |   |   |   |--- feature_1 >  -0.63\n",
      "|   |   |   |   |   |   |   |--- feature_0 <= -0.49\n",
      "|   |   |   |   |   |   |   |   |--- class: 0\n",
      "|   |   |   |   |   |   |   |--- feature_0 >  -0.49\n",
      "|   |   |   |   |   |   |   |   |--- feature_0 <= -0.49\n",
      "|   |   |   |   |   |   |   |   |   |--- class: 1\n",
      "|   |   |   |   |   |   |   |   |--- feature_0 >  -0.49\n",
      "|   |   |   |   |   |   |   |   |   |--- class: 0\n",
      "|   |   |   |   |   |--- feature_1 >  -0.07\n",
      "|   |   |   |   |   |   |--- class: 1\n",
      "|   |   |   |--- feature_1 >  -0.04\n",
      "|   |   |   |   |--- feature_1 <= 0.23\n",
      "|   |   |   |   |   |--- feature_1 <= 0.14\n",
      "|   |   |   |   |   |   |--- feature_1 <= 0.13\n",
      "|   |   |   |   |   |   |   |--- feature_1 <= 0.04\n",
      "|   |   |   |   |   |   |   |   |--- class: 0\n",
      "|   |   |   |   |   |   |   |--- feature_1 >  0.04\n",
      "|   |   |   |   |   |   |   |   |--- feature_1 <= 0.10\n",
      "|   |   |   |   |   |   |   |   |   |--- feature_0 <= -0.50\n",
      "|   |   |   |   |   |   |   |   |   |   |--- class: 1\n",
      "|   |   |   |   |   |   |   |   |   |--- feature_0 >  -0.50\n",
      "|   |   |   |   |   |   |   |   |   |   |--- class: 0\n",
      "|   |   |   |   |   |   |   |   |--- feature_1 >  0.10\n",
      "|   |   |   |   |   |   |   |   |   |--- class: 0\n",
      "|   |   |   |   |   |   |--- feature_1 >  0.13\n",
      "|   |   |   |   |   |   |   |--- class: 1\n",
      "|   |   |   |   |   |--- feature_1 >  0.14\n",
      "|   |   |   |   |   |   |--- class: 0\n",
      "|   |   |   |   |--- feature_1 >  0.23\n",
      "|   |   |   |   |   |--- class: 1\n",
      "|   |--- feature_0 >  -0.47\n",
      "|   |   |--- feature_1 <= -0.16\n",
      "|   |   |   |--- feature_1 <= -0.59\n",
      "|   |   |   |   |--- feature_0 <= -0.23\n",
      "|   |   |   |   |   |--- feature_0 <= -0.38\n",
      "|   |   |   |   |   |   |--- class: 1\n",
      "|   |   |   |   |   |--- feature_0 >  -0.38\n",
      "|   |   |   |   |   |   |--- feature_0 <= -0.33\n",
      "|   |   |   |   |   |   |   |--- class: 0\n",
      "|   |   |   |   |   |   |--- feature_0 >  -0.33\n",
      "|   |   |   |   |   |   |   |--- feature_1 <= -0.93\n",
      "|   |   |   |   |   |   |   |   |--- class: 0\n",
      "|   |   |   |   |   |   |   |--- feature_1 >  -0.93\n",
      "|   |   |   |   |   |   |   |   |--- class: 1\n",
      "|   |   |   |   |--- feature_0 >  -0.23\n",
      "|   |   |   |   |   |--- feature_1 <= -0.73\n",
      "|   |   |   |   |   |   |--- feature_1 <= -0.73\n",
      "|   |   |   |   |   |   |   |--- feature_1 <= -0.74\n",
      "|   |   |   |   |   |   |   |   |--- feature_0 <= 1.63\n",
      "|   |   |   |   |   |   |   |   |   |--- feature_0 <= 0.65\n",
      "|   |   |   |   |   |   |   |   |   |   |--- feature_0 <= 0.64\n",
      "|   |   |   |   |   |   |   |   |   |   |   |--- class: 1\n",
      "|   |   |   |   |   |   |   |   |   |   |--- feature_0 >  0.64\n",
      "|   |   |   |   |   |   |   |   |   |   |   |--- class: 0\n",
      "|   |   |   |   |   |   |   |   |   |--- feature_0 >  0.65\n",
      "|   |   |   |   |   |   |   |   |   |   |--- class: 1\n",
      "|   |   |   |   |   |   |   |   |--- feature_0 >  1.63\n",
      "|   |   |   |   |   |   |   |   |   |--- feature_0 <= 1.64\n",
      "|   |   |   |   |   |   |   |   |   |   |--- class: 0\n",
      "|   |   |   |   |   |   |   |   |   |--- feature_0 >  1.64\n",
      "|   |   |   |   |   |   |   |   |   |   |--- class: 1\n",
      "|   |   |   |   |   |   |   |--- feature_1 >  -0.74\n",
      "|   |   |   |   |   |   |   |   |--- feature_0 <= 1.19\n",
      "|   |   |   |   |   |   |   |   |   |--- class: 1\n",
      "|   |   |   |   |   |   |   |   |--- feature_0 >  1.19\n",
      "|   |   |   |   |   |   |   |   |   |--- class: 0\n",
      "|   |   |   |   |   |   |--- feature_1 >  -0.73\n",
      "|   |   |   |   |   |   |   |--- class: 0\n",
      "|   |   |   |   |   |--- feature_1 >  -0.73\n",
      "|   |   |   |   |   |   |--- class: 1\n",
      "|   |   |   |--- feature_1 >  -0.59\n",
      "|   |   |   |   |--- feature_1 <= -0.59\n",
      "|   |   |   |   |   |--- feature_1 <= -0.59\n",
      "|   |   |   |   |   |   |--- class: 0\n",
      "|   |   |   |   |   |--- feature_1 >  -0.59\n",
      "|   |   |   |   |   |   |--- feature_0 <= 0.71\n",
      "|   |   |   |   |   |   |   |--- class: 1\n",
      "|   |   |   |   |   |   |--- feature_0 >  0.71\n",
      "|   |   |   |   |   |   |   |--- class: 0\n",
      "|   |   |   |   |--- feature_1 >  -0.59\n",
      "|   |   |   |   |   |--- feature_0 <= 1.56\n",
      "|   |   |   |   |   |   |--- feature_0 <= 0.37\n",
      "|   |   |   |   |   |   |   |--- feature_0 <= -0.42\n",
      "|   |   |   |   |   |   |   |   |--- feature_0 <= -0.44\n",
      "|   |   |   |   |   |   |   |   |   |--- class: 1\n",
      "|   |   |   |   |   |   |   |   |--- feature_0 >  -0.44\n",
      "|   |   |   |   |   |   |   |   |   |--- class: 0\n",
      "|   |   |   |   |   |   |   |--- feature_0 >  -0.42\n",
      "|   |   |   |   |   |   |   |   |--- feature_0 <= 0.13\n",
      "|   |   |   |   |   |   |   |   |   |--- class: 1\n",
      "|   |   |   |   |   |   |   |   |--- feature_0 >  0.13\n",
      "|   |   |   |   |   |   |   |   |   |--- feature_0 <= 0.13\n",
      "|   |   |   |   |   |   |   |   |   |   |--- class: 0\n",
      "|   |   |   |   |   |   |   |   |   |--- feature_0 >  0.13\n",
      "|   |   |   |   |   |   |   |   |   |   |--- class: 1\n",
      "|   |   |   |   |   |   |--- feature_0 >  0.37\n",
      "|   |   |   |   |   |   |   |--- feature_1 <= -0.37\n",
      "|   |   |   |   |   |   |   |   |--- feature_0 <= 0.85\n",
      "|   |   |   |   |   |   |   |   |   |--- feature_1 <= -0.51\n",
      "|   |   |   |   |   |   |   |   |   |   |--- feature_1 <= -0.51\n",
      "|   |   |   |   |   |   |   |   |   |   |   |--- truncated branch of depth 3\n",
      "|   |   |   |   |   |   |   |   |   |   |--- feature_1 >  -0.51\n",
      "|   |   |   |   |   |   |   |   |   |   |   |--- class: 0\n",
      "|   |   |   |   |   |   |   |   |   |--- feature_1 >  -0.51\n",
      "|   |   |   |   |   |   |   |   |   |   |--- class: 1\n",
      "|   |   |   |   |   |   |   |   |--- feature_0 >  0.85\n",
      "|   |   |   |   |   |   |   |   |   |--- feature_0 <= 0.86\n",
      "|   |   |   |   |   |   |   |   |   |   |--- class: 0\n",
      "|   |   |   |   |   |   |   |   |   |--- feature_0 >  0.86\n",
      "|   |   |   |   |   |   |   |   |   |   |--- feature_1 <= -0.58\n",
      "|   |   |   |   |   |   |   |   |   |   |   |--- truncated branch of depth 2\n",
      "|   |   |   |   |   |   |   |   |   |   |--- feature_1 >  -0.58\n",
      "|   |   |   |   |   |   |   |   |   |   |   |--- truncated branch of depth 11\n",
      "|   |   |   |   |   |   |   |--- feature_1 >  -0.37\n",
      "|   |   |   |   |   |   |   |   |--- feature_1 <= -0.37\n",
      "|   |   |   |   |   |   |   |   |   |--- class: 0\n",
      "|   |   |   |   |   |   |   |   |--- feature_1 >  -0.37\n",
      "|   |   |   |   |   |   |   |   |   |--- feature_0 <= 1.54\n",
      "|   |   |   |   |   |   |   |   |   |   |--- feature_0 <= 0.87\n",
      "|   |   |   |   |   |   |   |   |   |   |   |--- truncated branch of depth 10\n",
      "|   |   |   |   |   |   |   |   |   |   |--- feature_0 >  0.87\n",
      "|   |   |   |   |   |   |   |   |   |   |   |--- truncated branch of depth 6\n",
      "|   |   |   |   |   |   |   |   |   |--- feature_0 >  1.54\n",
      "|   |   |   |   |   |   |   |   |   |   |--- class: 0\n",
      "|   |   |   |   |   |--- feature_0 >  1.56\n",
      "|   |   |   |   |   |   |--- feature_1 <= -0.48\n",
      "|   |   |   |   |   |   |   |--- feature_1 <= -0.48\n",
      "|   |   |   |   |   |   |   |   |--- class: 1\n",
      "|   |   |   |   |   |   |   |--- feature_1 >  -0.48\n",
      "|   |   |   |   |   |   |   |   |--- class: 0\n",
      "|   |   |   |   |   |   |--- feature_1 >  -0.48\n",
      "|   |   |   |   |   |   |   |--- class: 1\n",
      "|   |   |--- feature_1 >  -0.16\n",
      "|   |   |   |--- feature_0 <= 1.40\n",
      "|   |   |   |   |--- feature_1 <= 0.11\n",
      "|   |   |   |   |   |--- feature_0 <= 0.33\n",
      "|   |   |   |   |   |   |--- feature_1 <= -0.06\n",
      "|   |   |   |   |   |   |   |--- feature_0 <= -0.39\n",
      "|   |   |   |   |   |   |   |   |--- feature_1 <= -0.14\n",
      "|   |   |   |   |   |   |   |   |   |--- class: 0\n",
      "|   |   |   |   |   |   |   |   |--- feature_1 >  -0.14\n",
      "|   |   |   |   |   |   |   |   |   |--- class: 1\n",
      "|   |   |   |   |   |   |   |--- feature_0 >  -0.39\n",
      "|   |   |   |   |   |   |   |   |--- feature_0 <= 0.00\n",
      "|   |   |   |   |   |   |   |   |   |--- class: 1\n",
      "|   |   |   |   |   |   |   |   |--- feature_0 >  0.00\n",
      "|   |   |   |   |   |   |   |   |   |--- feature_0 <= 0.01\n",
      "|   |   |   |   |   |   |   |   |   |   |--- class: 0\n",
      "|   |   |   |   |   |   |   |   |   |--- feature_0 >  0.01\n",
      "|   |   |   |   |   |   |   |   |   |   |--- class: 1\n",
      "|   |   |   |   |   |   |--- feature_1 >  -0.06\n",
      "|   |   |   |   |   |   |   |--- feature_0 <= -0.18\n",
      "|   |   |   |   |   |   |   |   |--- feature_1 <= -0.05\n",
      "|   |   |   |   |   |   |   |   |   |--- class: 0\n",
      "|   |   |   |   |   |   |   |   |--- feature_1 >  -0.05\n",
      "|   |   |   |   |   |   |   |   |   |--- feature_0 <= -0.31\n",
      "|   |   |   |   |   |   |   |   |   |   |--- feature_0 <= -0.46\n",
      "|   |   |   |   |   |   |   |   |   |   |   |--- class: 0\n",
      "|   |   |   |   |   |   |   |   |   |   |--- feature_0 >  -0.46\n",
      "|   |   |   |   |   |   |   |   |   |   |   |--- class: 1\n",
      "|   |   |   |   |   |   |   |   |   |--- feature_0 >  -0.31\n",
      "|   |   |   |   |   |   |   |   |   |   |--- feature_0 <= -0.26\n",
      "|   |   |   |   |   |   |   |   |   |   |   |--- class: 0\n",
      "|   |   |   |   |   |   |   |   |   |   |--- feature_0 >  -0.26\n",
      "|   |   |   |   |   |   |   |   |   |   |   |--- truncated branch of depth 3\n",
      "|   |   |   |   |   |   |   |--- feature_0 >  -0.18\n",
      "|   |   |   |   |   |   |   |   |--- feature_1 <= -0.06\n",
      "|   |   |   |   |   |   |   |   |   |--- class: 0\n",
      "|   |   |   |   |   |   |   |   |--- feature_1 >  -0.06\n",
      "|   |   |   |   |   |   |   |   |   |--- feature_1 <= -0.04\n",
      "|   |   |   |   |   |   |   |   |   |   |--- class: 1\n",
      "|   |   |   |   |   |   |   |   |   |--- feature_1 >  -0.04\n",
      "|   |   |   |   |   |   |   |   |   |   |--- feature_1 <= -0.01\n",
      "|   |   |   |   |   |   |   |   |   |   |   |--- truncated branch of depth 4\n",
      "|   |   |   |   |   |   |   |   |   |   |--- feature_1 >  -0.01\n",
      "|   |   |   |   |   |   |   |   |   |   |   |--- truncated branch of depth 9\n",
      "|   |   |   |   |   |--- feature_0 >  0.33\n",
      "|   |   |   |   |   |   |--- feature_0 <= 0.35\n",
      "|   |   |   |   |   |   |   |--- class: 0\n",
      "|   |   |   |   |   |   |--- feature_0 >  0.35\n",
      "|   |   |   |   |   |   |   |--- feature_0 <= 1.37\n",
      "|   |   |   |   |   |   |   |   |--- feature_0 <= 1.35\n",
      "|   |   |   |   |   |   |   |   |   |--- feature_0 <= 1.32\n",
      "|   |   |   |   |   |   |   |   |   |   |--- feature_1 <= -0.15\n",
      "|   |   |   |   |   |   |   |   |   |   |   |--- truncated branch of depth 5\n",
      "|   |   |   |   |   |   |   |   |   |   |--- feature_1 >  -0.15\n",
      "|   |   |   |   |   |   |   |   |   |   |   |--- truncated branch of depth 13\n",
      "|   |   |   |   |   |   |   |   |   |--- feature_0 >  1.32\n",
      "|   |   |   |   |   |   |   |   |   |   |--- feature_0 <= 1.33\n",
      "|   |   |   |   |   |   |   |   |   |   |   |--- class: 0\n",
      "|   |   |   |   |   |   |   |   |   |   |--- feature_0 >  1.33\n",
      "|   |   |   |   |   |   |   |   |   |   |   |--- truncated branch of depth 2\n",
      "|   |   |   |   |   |   |   |   |--- feature_0 >  1.35\n",
      "|   |   |   |   |   |   |   |   |   |--- class: 1\n",
      "|   |   |   |   |   |   |   |--- feature_0 >  1.37\n",
      "|   |   |   |   |   |   |   |   |--- feature_1 <= 0.07\n",
      "|   |   |   |   |   |   |   |   |   |--- class: 0\n",
      "|   |   |   |   |   |   |   |   |--- feature_1 >  0.07\n",
      "|   |   |   |   |   |   |   |   |   |--- class: 1\n",
      "|   |   |   |   |--- feature_1 >  0.11\n",
      "|   |   |   |   |   |--- feature_0 <= 0.63\n",
      "|   |   |   |   |   |   |--- feature_0 <= -0.27\n",
      "|   |   |   |   |   |   |   |--- feature_0 <= -0.39\n",
      "|   |   |   |   |   |   |   |   |--- feature_1 <= 0.14\n",
      "|   |   |   |   |   |   |   |   |   |--- class: 0\n",
      "|   |   |   |   |   |   |   |   |--- feature_1 >  0.14\n",
      "|   |   |   |   |   |   |   |   |   |--- class: 1\n",
      "|   |   |   |   |   |   |   |--- feature_0 >  -0.39\n",
      "|   |   |   |   |   |   |   |   |--- feature_1 <= 0.24\n",
      "|   |   |   |   |   |   |   |   |   |--- feature_0 <= -0.34\n",
      "|   |   |   |   |   |   |   |   |   |   |--- class: 0\n",
      "|   |   |   |   |   |   |   |   |   |--- feature_0 >  -0.34\n",
      "|   |   |   |   |   |   |   |   |   |   |--- feature_0 <= -0.33\n",
      "|   |   |   |   |   |   |   |   |   |   |   |--- class: 1\n",
      "|   |   |   |   |   |   |   |   |   |   |--- feature_0 >  -0.33\n",
      "|   |   |   |   |   |   |   |   |   |   |   |--- class: 0\n",
      "|   |   |   |   |   |   |   |   |--- feature_1 >  0.24\n",
      "|   |   |   |   |   |   |   |   |   |--- feature_0 <= -0.38\n",
      "|   |   |   |   |   |   |   |   |   |   |--- class: 0\n",
      "|   |   |   |   |   |   |   |   |   |--- feature_0 >  -0.38\n",
      "|   |   |   |   |   |   |   |   |   |   |--- class: 1\n",
      "|   |   |   |   |   |   |--- feature_0 >  -0.27\n",
      "|   |   |   |   |   |   |   |--- feature_0 <= -0.15\n",
      "|   |   |   |   |   |   |   |   |--- class: 1\n",
      "|   |   |   |   |   |   |   |--- feature_0 >  -0.15\n",
      "|   |   |   |   |   |   |   |   |--- feature_0 <= -0.10\n",
      "|   |   |   |   |   |   |   |   |   |--- class: 0\n",
      "|   |   |   |   |   |   |   |   |--- feature_0 >  -0.10\n",
      "|   |   |   |   |   |   |   |   |   |--- feature_1 <= 0.19\n",
      "|   |   |   |   |   |   |   |   |   |   |--- feature_1 <= 0.12\n",
      "|   |   |   |   |   |   |   |   |   |   |   |--- truncated branch of depth 2\n",
      "|   |   |   |   |   |   |   |   |   |   |--- feature_1 >  0.12\n",
      "|   |   |   |   |   |   |   |   |   |   |   |--- truncated branch of depth 9\n",
      "|   |   |   |   |   |   |   |   |   |--- feature_1 >  0.19\n",
      "|   |   |   |   |   |   |   |   |   |   |--- feature_0 <= 0.52\n",
      "|   |   |   |   |   |   |   |   |   |   |   |--- truncated branch of depth 10\n",
      "|   |   |   |   |   |   |   |   |   |   |--- feature_0 >  0.52\n",
      "|   |   |   |   |   |   |   |   |   |   |   |--- truncated branch of depth 3\n",
      "|   |   |   |   |   |--- feature_0 >  0.63\n",
      "|   |   |   |   |   |   |--- feature_0 <= 0.97\n",
      "|   |   |   |   |   |   |   |--- feature_1 <= 0.23\n",
      "|   |   |   |   |   |   |   |   |--- feature_0 <= 0.74\n",
      "|   |   |   |   |   |   |   |   |   |--- class: 0\n",
      "|   |   |   |   |   |   |   |   |--- feature_0 >  0.74\n",
      "|   |   |   |   |   |   |   |   |   |--- feature_1 <= 0.13\n",
      "|   |   |   |   |   |   |   |   |   |   |--- feature_1 <= 0.12\n",
      "|   |   |   |   |   |   |   |   |   |   |   |--- class: 0\n",
      "|   |   |   |   |   |   |   |   |   |   |--- feature_1 >  0.12\n",
      "|   |   |   |   |   |   |   |   |   |   |   |--- class: 1\n",
      "|   |   |   |   |   |   |   |   |   |--- feature_1 >  0.13\n",
      "|   |   |   |   |   |   |   |   |   |   |--- feature_0 <= 0.75\n",
      "|   |   |   |   |   |   |   |   |   |   |   |--- class: 1\n",
      "|   |   |   |   |   |   |   |   |   |   |--- feature_0 >  0.75\n",
      "|   |   |   |   |   |   |   |   |   |   |   |--- truncated branch of depth 5\n",
      "|   |   |   |   |   |   |   |--- feature_1 >  0.23\n",
      "|   |   |   |   |   |   |   |   |--- feature_1 <= 0.24\n",
      "|   |   |   |   |   |   |   |   |   |--- class: 1\n",
      "|   |   |   |   |   |   |   |   |--- feature_1 >  0.24\n",
      "|   |   |   |   |   |   |   |   |   |--- feature_0 <= 0.73\n",
      "|   |   |   |   |   |   |   |   |   |   |--- class: 1\n",
      "|   |   |   |   |   |   |   |   |   |--- feature_0 >  0.73\n",
      "|   |   |   |   |   |   |   |   |   |   |--- class: 0\n",
      "|   |   |   |   |   |   |--- feature_0 >  0.97\n",
      "|   |   |   |   |   |   |   |--- feature_1 <= 0.16\n",
      "|   |   |   |   |   |   |   |   |--- feature_1 <= 0.13\n",
      "|   |   |   |   |   |   |   |   |   |--- feature_0 <= 1.13\n",
      "|   |   |   |   |   |   |   |   |   |   |--- class: 1\n",
      "|   |   |   |   |   |   |   |   |   |--- feature_0 >  1.13\n",
      "|   |   |   |   |   |   |   |   |   |   |--- class: 0\n",
      "|   |   |   |   |   |   |   |   |--- feature_1 >  0.13\n",
      "|   |   |   |   |   |   |   |   |   |--- class: 1\n",
      "|   |   |   |   |   |   |   |--- feature_1 >  0.16\n",
      "|   |   |   |   |   |   |   |   |--- feature_1 <= 0.23\n",
      "|   |   |   |   |   |   |   |   |   |--- feature_0 <= 1.01\n",
      "|   |   |   |   |   |   |   |   |   |   |--- class: 0\n",
      "|   |   |   |   |   |   |   |   |   |--- feature_0 >  1.01\n",
      "|   |   |   |   |   |   |   |   |   |   |--- feature_0 <= 1.16\n",
      "|   |   |   |   |   |   |   |   |   |   |   |--- truncated branch of depth 2\n",
      "|   |   |   |   |   |   |   |   |   |   |--- feature_0 >  1.16\n",
      "|   |   |   |   |   |   |   |   |   |   |   |--- truncated branch of depth 4\n",
      "|   |   |   |   |   |   |   |   |--- feature_1 >  0.23\n",
      "|   |   |   |   |   |   |   |   |   |--- class: 0\n",
      "|   |   |   |--- feature_0 >  1.40\n",
      "|   |   |   |   |--- feature_0 <= 1.76\n",
      "|   |   |   |   |   |--- feature_0 <= 1.76\n",
      "|   |   |   |   |   |   |--- feature_0 <= 1.44\n",
      "|   |   |   |   |   |   |   |--- class: 1\n",
      "|   |   |   |   |   |   |--- feature_0 >  1.44\n",
      "|   |   |   |   |   |   |   |--- feature_0 <= 1.45\n",
      "|   |   |   |   |   |   |   |   |--- class: 0\n",
      "|   |   |   |   |   |   |   |--- feature_0 >  1.45\n",
      "|   |   |   |   |   |   |   |   |--- feature_1 <= -0.04\n",
      "|   |   |   |   |   |   |   |   |   |--- feature_1 <= -0.07\n",
      "|   |   |   |   |   |   |   |   |   |   |--- feature_0 <= 1.61\n",
      "|   |   |   |   |   |   |   |   |   |   |   |--- truncated branch of depth 3\n",
      "|   |   |   |   |   |   |   |   |   |   |--- feature_0 >  1.61\n",
      "|   |   |   |   |   |   |   |   |   |   |   |--- truncated branch of depth 3\n",
      "|   |   |   |   |   |   |   |   |   |--- feature_1 >  -0.07\n",
      "|   |   |   |   |   |   |   |   |   |   |--- feature_1 <= -0.06\n",
      "|   |   |   |   |   |   |   |   |   |   |   |--- class: 0\n",
      "|   |   |   |   |   |   |   |   |   |   |--- feature_1 >  -0.06\n",
      "|   |   |   |   |   |   |   |   |   |   |   |--- truncated branch of depth 2\n",
      "|   |   |   |   |   |   |   |   |--- feature_1 >  -0.04\n",
      "|   |   |   |   |   |   |   |   |   |--- feature_0 <= 1.46\n",
      "|   |   |   |   |   |   |   |   |   |   |--- feature_0 <= 1.46\n",
      "|   |   |   |   |   |   |   |   |   |   |   |--- class: 1\n",
      "|   |   |   |   |   |   |   |   |   |   |--- feature_0 >  1.46\n",
      "|   |   |   |   |   |   |   |   |   |   |   |--- class: 0\n",
      "|   |   |   |   |   |   |   |   |   |--- feature_0 >  1.46\n",
      "|   |   |   |   |   |   |   |   |   |   |--- feature_1 <= 0.24\n",
      "|   |   |   |   |   |   |   |   |   |   |   |--- truncated branch of depth 5\n",
      "|   |   |   |   |   |   |   |   |   |   |--- feature_1 >  0.24\n",
      "|   |   |   |   |   |   |   |   |   |   |   |--- truncated branch of depth 2\n",
      "|   |   |   |   |   |--- feature_0 >  1.76\n",
      "|   |   |   |   |   |   |--- class: 0\n",
      "|   |   |   |   |--- feature_0 >  1.76\n",
      "|   |   |   |   |   |--- class: 1\n",
      "|--- feature_1 >  0.25\n",
      "|   |--- feature_0 <= 1.49\n",
      "|   |   |--- feature_1 <= 0.52\n",
      "|   |   |   |--- feature_0 <= -0.29\n",
      "|   |   |   |   |--- feature_0 <= -0.69\n",
      "|   |   |   |   |   |--- feature_1 <= 0.34\n",
      "|   |   |   |   |   |   |--- feature_1 <= 0.33\n",
      "|   |   |   |   |   |   |   |--- class: 0\n",
      "|   |   |   |   |   |   |--- feature_1 >  0.33\n",
      "|   |   |   |   |   |   |   |--- feature_0 <= -0.85\n",
      "|   |   |   |   |   |   |   |   |--- class: 1\n",
      "|   |   |   |   |   |   |   |--- feature_0 >  -0.85\n",
      "|   |   |   |   |   |   |   |   |--- class: 0\n",
      "|   |   |   |   |   |--- feature_1 >  0.34\n",
      "|   |   |   |   |   |   |--- class: 0\n",
      "|   |   |   |   |--- feature_0 >  -0.69\n",
      "|   |   |   |   |   |--- feature_0 <= -0.66\n",
      "|   |   |   |   |   |   |--- feature_1 <= 0.41\n",
      "|   |   |   |   |   |   |   |--- class: 1\n",
      "|   |   |   |   |   |   |--- feature_1 >  0.41\n",
      "|   |   |   |   |   |   |   |--- class: 0\n",
      "|   |   |   |   |   |--- feature_0 >  -0.66\n",
      "|   |   |   |   |   |   |--- feature_1 <= 0.36\n",
      "|   |   |   |   |   |   |   |--- class: 0\n",
      "|   |   |   |   |   |   |--- feature_1 >  0.36\n",
      "|   |   |   |   |   |   |   |--- feature_1 <= 0.38\n",
      "|   |   |   |   |   |   |   |   |--- class: 1\n",
      "|   |   |   |   |   |   |   |--- feature_1 >  0.38\n",
      "|   |   |   |   |   |   |   |   |--- feature_1 <= 0.49\n",
      "|   |   |   |   |   |   |   |   |   |--- feature_1 <= 0.49\n",
      "|   |   |   |   |   |   |   |   |   |   |--- feature_0 <= -0.59\n",
      "|   |   |   |   |   |   |   |   |   |   |   |--- class: 0\n",
      "|   |   |   |   |   |   |   |   |   |   |--- feature_0 >  -0.59\n",
      "|   |   |   |   |   |   |   |   |   |   |   |--- truncated branch of depth 6\n",
      "|   |   |   |   |   |   |   |   |   |--- feature_1 >  0.49\n",
      "|   |   |   |   |   |   |   |   |   |   |--- class: 1\n",
      "|   |   |   |   |   |   |   |   |--- feature_1 >  0.49\n",
      "|   |   |   |   |   |   |   |   |   |--- class: 0\n",
      "|   |   |   |--- feature_0 >  -0.29\n",
      "|   |   |   |   |--- feature_0 <= 0.51\n",
      "|   |   |   |   |   |--- feature_1 <= 0.26\n",
      "|   |   |   |   |   |   |--- class: 0\n",
      "|   |   |   |   |   |--- feature_1 >  0.26\n",
      "|   |   |   |   |   |   |--- feature_1 <= 0.51\n",
      "|   |   |   |   |   |   |   |--- feature_1 <= 0.46\n",
      "|   |   |   |   |   |   |   |   |--- feature_0 <= 0.49\n",
      "|   |   |   |   |   |   |   |   |   |--- feature_0 <= 0.48\n",
      "|   |   |   |   |   |   |   |   |   |   |--- feature_0 <= 0.45\n",
      "|   |   |   |   |   |   |   |   |   |   |   |--- truncated branch of depth 13\n",
      "|   |   |   |   |   |   |   |   |   |   |--- feature_0 >  0.45\n",
      "|   |   |   |   |   |   |   |   |   |   |   |--- class: 1\n",
      "|   |   |   |   |   |   |   |   |   |--- feature_0 >  0.48\n",
      "|   |   |   |   |   |   |   |   |   |   |--- class: 0\n",
      "|   |   |   |   |   |   |   |   |--- feature_0 >  0.49\n",
      "|   |   |   |   |   |   |   |   |   |--- class: 1\n",
      "|   |   |   |   |   |   |   |--- feature_1 >  0.46\n",
      "|   |   |   |   |   |   |   |   |--- feature_0 <= 0.29\n",
      "|   |   |   |   |   |   |   |   |   |--- feature_0 <= -0.22\n",
      "|   |   |   |   |   |   |   |   |   |   |--- class: 1\n",
      "|   |   |   |   |   |   |   |   |   |--- feature_0 >  -0.22\n",
      "|   |   |   |   |   |   |   |   |   |   |--- feature_1 <= 0.49\n",
      "|   |   |   |   |   |   |   |   |   |   |   |--- class: 0\n",
      "|   |   |   |   |   |   |   |   |   |   |--- feature_1 >  0.49\n",
      "|   |   |   |   |   |   |   |   |   |   |   |--- truncated branch of depth 2\n",
      "|   |   |   |   |   |   |   |   |--- feature_0 >  0.29\n",
      "|   |   |   |   |   |   |   |   |   |--- feature_0 <= 0.36\n",
      "|   |   |   |   |   |   |   |   |   |   |--- class: 1\n",
      "|   |   |   |   |   |   |   |   |   |--- feature_0 >  0.36\n",
      "|   |   |   |   |   |   |   |   |   |   |--- feature_0 <= 0.49\n",
      "|   |   |   |   |   |   |   |   |   |   |   |--- truncated branch of depth 3\n",
      "|   |   |   |   |   |   |   |   |   |   |--- feature_0 >  0.49\n",
      "|   |   |   |   |   |   |   |   |   |   |   |--- class: 1\n",
      "|   |   |   |   |   |   |--- feature_1 >  0.51\n",
      "|   |   |   |   |   |   |   |--- class: 1\n",
      "|   |   |   |   |--- feature_0 >  0.51\n",
      "|   |   |   |   |   |--- feature_0 <= 1.14\n",
      "|   |   |   |   |   |   |--- feature_0 <= 1.06\n",
      "|   |   |   |   |   |   |   |--- feature_0 <= 1.05\n",
      "|   |   |   |   |   |   |   |   |--- feature_0 <= 0.96\n",
      "|   |   |   |   |   |   |   |   |   |--- feature_1 <= 0.52\n",
      "|   |   |   |   |   |   |   |   |   |   |--- feature_0 <= 0.96\n",
      "|   |   |   |   |   |   |   |   |   |   |   |--- truncated branch of depth 9\n",
      "|   |   |   |   |   |   |   |   |   |   |--- feature_0 >  0.96\n",
      "|   |   |   |   |   |   |   |   |   |   |   |--- class: 1\n",
      "|   |   |   |   |   |   |   |   |   |--- feature_1 >  0.52\n",
      "|   |   |   |   |   |   |   |   |   |   |--- class: 1\n",
      "|   |   |   |   |   |   |   |   |--- feature_0 >  0.96\n",
      "|   |   |   |   |   |   |   |   |   |--- feature_1 <= 0.46\n",
      "|   |   |   |   |   |   |   |   |   |   |--- class: 0\n",
      "|   |   |   |   |   |   |   |   |   |--- feature_1 >  0.46\n",
      "|   |   |   |   |   |   |   |   |   |   |--- feature_1 <= 0.51\n",
      "|   |   |   |   |   |   |   |   |   |   |   |--- class: 1\n",
      "|   |   |   |   |   |   |   |   |   |   |--- feature_1 >  0.51\n",
      "|   |   |   |   |   |   |   |   |   |   |   |--- class: 0\n",
      "|   |   |   |   |   |   |   |--- feature_0 >  1.05\n",
      "|   |   |   |   |   |   |   |   |--- class: 1\n",
      "|   |   |   |   |   |   |--- feature_0 >  1.06\n",
      "|   |   |   |   |   |   |   |--- class: 0\n",
      "|   |   |   |   |   |--- feature_0 >  1.14\n",
      "|   |   |   |   |   |   |--- feature_1 <= 0.35\n",
      "|   |   |   |   |   |   |   |--- feature_1 <= 0.33\n",
      "|   |   |   |   |   |   |   |   |--- feature_0 <= 1.41\n",
      "|   |   |   |   |   |   |   |   |   |--- feature_0 <= 1.34\n",
      "|   |   |   |   |   |   |   |   |   |   |--- feature_0 <= 1.17\n",
      "|   |   |   |   |   |   |   |   |   |   |   |--- class: 1\n",
      "|   |   |   |   |   |   |   |   |   |   |--- feature_0 >  1.17\n",
      "|   |   |   |   |   |   |   |   |   |   |   |--- class: 0\n",
      "|   |   |   |   |   |   |   |   |   |--- feature_0 >  1.34\n",
      "|   |   |   |   |   |   |   |   |   |   |--- class: 1\n",
      "|   |   |   |   |   |   |   |   |--- feature_0 >  1.41\n",
      "|   |   |   |   |   |   |   |   |   |--- class: 0\n",
      "|   |   |   |   |   |   |   |--- feature_1 >  0.33\n",
      "|   |   |   |   |   |   |   |   |--- class: 1\n",
      "|   |   |   |   |   |   |--- feature_1 >  0.35\n",
      "|   |   |   |   |   |   |   |--- feature_0 <= 1.45\n",
      "|   |   |   |   |   |   |   |   |--- feature_0 <= 1.14\n",
      "|   |   |   |   |   |   |   |   |   |--- class: 1\n",
      "|   |   |   |   |   |   |   |   |--- feature_0 >  1.14\n",
      "|   |   |   |   |   |   |   |   |   |--- feature_1 <= 0.44\n",
      "|   |   |   |   |   |   |   |   |   |   |--- feature_0 <= 1.28\n",
      "|   |   |   |   |   |   |   |   |   |   |   |--- truncated branch of depth 3\n",
      "|   |   |   |   |   |   |   |   |   |   |--- feature_0 >  1.28\n",
      "|   |   |   |   |   |   |   |   |   |   |   |--- truncated branch of depth 3\n",
      "|   |   |   |   |   |   |   |   |   |--- feature_1 >  0.44\n",
      "|   |   |   |   |   |   |   |   |   |   |--- class: 0\n",
      "|   |   |   |   |   |   |   |--- feature_0 >  1.45\n",
      "|   |   |   |   |   |   |   |   |--- class: 1\n",
      "|   |   |--- feature_1 >  0.52\n",
      "|   |   |   |--- feature_1 <= 0.72\n",
      "|   |   |   |   |--- feature_0 <= -0.34\n",
      "|   |   |   |   |   |--- feature_0 <= -0.54\n",
      "|   |   |   |   |   |   |--- class: 0\n",
      "|   |   |   |   |   |--- feature_0 >  -0.54\n",
      "|   |   |   |   |   |   |--- feature_0 <= -0.52\n",
      "|   |   |   |   |   |   |   |--- feature_0 <= -0.53\n",
      "|   |   |   |   |   |   |   |   |--- class: 1\n",
      "|   |   |   |   |   |   |   |--- feature_0 >  -0.53\n",
      "|   |   |   |   |   |   |   |   |--- feature_1 <= 0.59\n",
      "|   |   |   |   |   |   |   |   |   |--- class: 1\n",
      "|   |   |   |   |   |   |   |   |--- feature_1 >  0.59\n",
      "|   |   |   |   |   |   |   |   |   |--- class: 0\n",
      "|   |   |   |   |   |   |--- feature_0 >  -0.52\n",
      "|   |   |   |   |   |   |   |--- class: 0\n",
      "|   |   |   |   |--- feature_0 >  -0.34\n",
      "|   |   |   |   |   |--- feature_1 <= 0.70\n",
      "|   |   |   |   |   |   |--- feature_0 <= -0.31\n",
      "|   |   |   |   |   |   |   |--- feature_1 <= 0.60\n",
      "|   |   |   |   |   |   |   |   |--- class: 0\n",
      "|   |   |   |   |   |   |   |--- feature_1 >  0.60\n",
      "|   |   |   |   |   |   |   |   |--- class: 1\n",
      "|   |   |   |   |   |   |--- feature_0 >  -0.31\n",
      "|   |   |   |   |   |   |   |--- feature_0 <= 0.43\n",
      "|   |   |   |   |   |   |   |   |--- feature_1 <= 0.68\n",
      "|   |   |   |   |   |   |   |   |   |--- feature_1 <= 0.65\n",
      "|   |   |   |   |   |   |   |   |   |   |--- feature_1 <= 0.64\n",
      "|   |   |   |   |   |   |   |   |   |   |   |--- truncated branch of depth 14\n",
      "|   |   |   |   |   |   |   |   |   |   |--- feature_1 >  0.64\n",
      "|   |   |   |   |   |   |   |   |   |   |   |--- class: 0\n",
      "|   |   |   |   |   |   |   |   |   |--- feature_1 >  0.65\n",
      "|   |   |   |   |   |   |   |   |   |   |--- feature_0 <= 0.20\n",
      "|   |   |   |   |   |   |   |   |   |   |   |--- truncated branch of depth 4\n",
      "|   |   |   |   |   |   |   |   |   |   |--- feature_0 >  0.20\n",
      "|   |   |   |   |   |   |   |   |   |   |   |--- truncated branch of depth 3\n",
      "|   |   |   |   |   |   |   |   |--- feature_1 >  0.68\n",
      "|   |   |   |   |   |   |   |   |   |--- class: 0\n",
      "|   |   |   |   |   |   |   |--- feature_0 >  0.43\n",
      "|   |   |   |   |   |   |   |   |--- feature_0 <= 1.32\n",
      "|   |   |   |   |   |   |   |   |   |--- feature_1 <= 0.54\n",
      "|   |   |   |   |   |   |   |   |   |   |--- feature_1 <= 0.53\n",
      "|   |   |   |   |   |   |   |   |   |   |   |--- class: 0\n",
      "|   |   |   |   |   |   |   |   |   |   |--- feature_1 >  0.53\n",
      "|   |   |   |   |   |   |   |   |   |   |   |--- truncated branch of depth 3\n",
      "|   |   |   |   |   |   |   |   |   |--- feature_1 >  0.54\n",
      "|   |   |   |   |   |   |   |   |   |   |--- feature_0 <= 0.68\n",
      "|   |   |   |   |   |   |   |   |   |   |   |--- truncated branch of depth 4\n",
      "|   |   |   |   |   |   |   |   |   |   |--- feature_0 >  0.68\n",
      "|   |   |   |   |   |   |   |   |   |   |   |--- class: 0\n",
      "|   |   |   |   |   |   |   |   |--- feature_0 >  1.32\n",
      "|   |   |   |   |   |   |   |   |   |--- feature_0 <= 1.42\n",
      "|   |   |   |   |   |   |   |   |   |   |--- feature_1 <= 0.61\n",
      "|   |   |   |   |   |   |   |   |   |   |   |--- class: 1\n",
      "|   |   |   |   |   |   |   |   |   |   |--- feature_1 >  0.61\n",
      "|   |   |   |   |   |   |   |   |   |   |   |--- class: 0\n",
      "|   |   |   |   |   |   |   |   |   |--- feature_0 >  1.42\n",
      "|   |   |   |   |   |   |   |   |   |   |--- class: 0\n",
      "|   |   |   |   |   |--- feature_1 >  0.70\n",
      "|   |   |   |   |   |   |--- feature_0 <= 0.76\n",
      "|   |   |   |   |   |   |   |--- class: 1\n",
      "|   |   |   |   |   |   |--- feature_0 >  0.76\n",
      "|   |   |   |   |   |   |   |--- feature_0 <= 1.15\n",
      "|   |   |   |   |   |   |   |   |--- class: 0\n",
      "|   |   |   |   |   |   |   |--- feature_0 >  1.15\n",
      "|   |   |   |   |   |   |   |   |--- class: 1\n",
      "|   |   |   |--- feature_1 >  0.72\n",
      "|   |   |   |   |--- feature_0 <= 1.42\n",
      "|   |   |   |   |   |--- feature_0 <= 0.53\n",
      "|   |   |   |   |   |   |--- feature_0 <= 0.53\n",
      "|   |   |   |   |   |   |   |--- feature_0 <= -0.67\n",
      "|   |   |   |   |   |   |   |   |--- class: 0\n",
      "|   |   |   |   |   |   |   |--- feature_0 >  -0.67\n",
      "|   |   |   |   |   |   |   |   |--- feature_0 <= -0.65\n",
      "|   |   |   |   |   |   |   |   |   |--- feature_1 <= 1.06\n",
      "|   |   |   |   |   |   |   |   |   |   |--- class: 0\n",
      "|   |   |   |   |   |   |   |   |   |--- feature_1 >  1.06\n",
      "|   |   |   |   |   |   |   |   |   |   |--- class: 1\n",
      "|   |   |   |   |   |   |   |   |--- feature_0 >  -0.65\n",
      "|   |   |   |   |   |   |   |   |   |--- feature_1 <= 1.17\n",
      "|   |   |   |   |   |   |   |   |   |   |--- feature_1 <= 1.17\n",
      "|   |   |   |   |   |   |   |   |   |   |   |--- truncated branch of depth 12\n",
      "|   |   |   |   |   |   |   |   |   |   |--- feature_1 >  1.17\n",
      "|   |   |   |   |   |   |   |   |   |   |   |--- class: 1\n",
      "|   |   |   |   |   |   |   |   |   |--- feature_1 >  1.17\n",
      "|   |   |   |   |   |   |   |   |   |   |--- feature_0 <= 0.31\n",
      "|   |   |   |   |   |   |   |   |   |   |   |--- class: 0\n",
      "|   |   |   |   |   |   |   |   |   |   |--- feature_0 >  0.31\n",
      "|   |   |   |   |   |   |   |   |   |   |   |--- truncated branch of depth 2\n",
      "|   |   |   |   |   |   |--- feature_0 >  0.53\n",
      "|   |   |   |   |   |   |   |--- class: 1\n",
      "|   |   |   |   |   |--- feature_0 >  0.53\n",
      "|   |   |   |   |   |   |--- class: 0\n",
      "|   |   |   |   |--- feature_0 >  1.42\n",
      "|   |   |   |   |   |--- feature_0 <= 1.46\n",
      "|   |   |   |   |   |   |--- class: 1\n",
      "|   |   |   |   |   |--- feature_0 >  1.46\n",
      "|   |   |   |   |   |   |--- feature_1 <= 0.80\n",
      "|   |   |   |   |   |   |   |--- class: 1\n",
      "|   |   |   |   |   |   |--- feature_1 >  0.80\n",
      "|   |   |   |   |   |   |   |--- class: 0\n",
      "|   |--- feature_0 >  1.49\n",
      "|   |   |--- feature_0 <= 1.81\n",
      "|   |   |   |--- feature_1 <= 1.13\n",
      "|   |   |   |   |--- feature_0 <= 1.80\n",
      "|   |   |   |   |   |--- feature_1 <= 0.39\n",
      "|   |   |   |   |   |   |--- feature_1 <= 0.29\n",
      "|   |   |   |   |   |   |   |--- feature_1 <= 0.28\n",
      "|   |   |   |   |   |   |   |   |--- class: 1\n",
      "|   |   |   |   |   |   |   |--- feature_1 >  0.28\n",
      "|   |   |   |   |   |   |   |   |--- class: 0\n",
      "|   |   |   |   |   |   |--- feature_1 >  0.29\n",
      "|   |   |   |   |   |   |   |--- class: 1\n",
      "|   |   |   |   |   |--- feature_1 >  0.39\n",
      "|   |   |   |   |   |   |--- feature_1 <= 0.43\n",
      "|   |   |   |   |   |   |   |--- feature_1 <= 0.41\n",
      "|   |   |   |   |   |   |   |   |--- feature_0 <= 1.63\n",
      "|   |   |   |   |   |   |   |   |   |--- class: 0\n",
      "|   |   |   |   |   |   |   |   |--- feature_0 >  1.63\n",
      "|   |   |   |   |   |   |   |   |   |--- class: 1\n",
      "|   |   |   |   |   |   |   |--- feature_1 >  0.41\n",
      "|   |   |   |   |   |   |   |   |--- class: 0\n",
      "|   |   |   |   |   |   |--- feature_1 >  0.43\n",
      "|   |   |   |   |   |   |   |--- feature_1 <= 0.54\n",
      "|   |   |   |   |   |   |   |   |--- class: 1\n",
      "|   |   |   |   |   |   |   |--- feature_1 >  0.54\n",
      "|   |   |   |   |   |   |   |   |--- feature_1 <= 0.74\n",
      "|   |   |   |   |   |   |   |   |   |--- feature_0 <= 1.67\n",
      "|   |   |   |   |   |   |   |   |   |   |--- feature_0 <= 1.58\n",
      "|   |   |   |   |   |   |   |   |   |   |   |--- truncated branch of depth 2\n",
      "|   |   |   |   |   |   |   |   |   |   |--- feature_0 >  1.58\n",
      "|   |   |   |   |   |   |   |   |   |   |   |--- class: 1\n",
      "|   |   |   |   |   |   |   |   |   |--- feature_0 >  1.67\n",
      "|   |   |   |   |   |   |   |   |   |   |--- class: 0\n",
      "|   |   |   |   |   |   |   |   |--- feature_1 >  0.74\n",
      "|   |   |   |   |   |   |   |   |   |--- feature_1 <= 1.00\n",
      "|   |   |   |   |   |   |   |   |   |   |--- class: 1\n",
      "|   |   |   |   |   |   |   |   |   |--- feature_1 >  1.00\n",
      "|   |   |   |   |   |   |   |   |   |   |--- feature_1 <= 1.03\n",
      "|   |   |   |   |   |   |   |   |   |   |   |--- class: 0\n",
      "|   |   |   |   |   |   |   |   |   |   |--- feature_1 >  1.03\n",
      "|   |   |   |   |   |   |   |   |   |   |   |--- class: 1\n",
      "|   |   |   |   |--- feature_0 >  1.80\n",
      "|   |   |   |   |   |--- class: 0\n",
      "|   |   |   |--- feature_1 >  1.13\n",
      "|   |   |   |   |--- feature_0 <= 1.56\n",
      "|   |   |   |   |   |--- class: 1\n",
      "|   |   |   |   |--- feature_0 >  1.56\n",
      "|   |   |   |   |   |--- class: 0\n",
      "|   |   |--- feature_0 >  1.81\n",
      "|   |   |   |--- feature_0 <= 1.98\n",
      "|   |   |   |   |--- feature_0 <= 1.97\n",
      "|   |   |   |   |   |--- class: 1\n",
      "|   |   |   |   |--- feature_0 >  1.97\n",
      "|   |   |   |   |   |--- class: 0\n",
      "|   |   |   |--- feature_0 >  1.98\n",
      "|   |   |   |   |--- class: 1\n",
      "\n"
     ]
    }
   ],
   "source": [
    "from sklearn.tree import export_text\n",
    "\n",
    "# Lets view the decision tree on the test dataset\n",
    "model = DecisionTreeClassifier().fit(X_test, y_test)\n",
    "print (model, \"\\n\")\n",
    "\n",
    "# Visualise the model tree\n",
    "tree = export_text(model)\n",
    "print(tree)"
   ]
  },
  {
   "cell_type": "code",
   "execution_count": 11,
   "metadata": {},
   "outputs": [
    {
     "data": {
      "text/plain": [
       "0.8636363636363636"
      ]
     },
     "execution_count": 11,
     "metadata": {},
     "output_type": "execute_result"
    }
   ],
   "source": [
    "# Now lets import metrics to predict accuracy of our model.\n",
    "from sklearn.metrics import accuracy_score\n",
    "\n",
    "predictions = grid_search_cv.predict(X_test)\n",
    "accuracy_score(y_test, predictions)"
   ]
  },
  {
   "cell_type": "code",
   "execution_count": 12,
   "metadata": {},
   "outputs": [
    {
     "data": {
      "text/plain": [
       "array([[1456,  224],\n",
       "       [ 226, 1394]], dtype=int64)"
      ]
     },
     "execution_count": 12,
     "metadata": {},
     "output_type": "execute_result"
    }
   ],
   "source": [
    "# Lets look at the confusion_matrix of our test dataset to see how our model is\n",
    "# performing in terms of classification.\n",
    "\n",
    "from sklearn.metrics import confusion_matrix\n",
    "\n",
    "confusion_matrix(y_test, predictions, labels=[0, 1])"
   ]
  },
  {
   "cell_type": "code",
   "execution_count": 13,
   "metadata": {},
   "outputs": [
    {
     "name": "stdout",
     "output_type": "stream",
     "text": [
      "Overall Precision: 0.861557478368356\n",
      "Overall Recall: 0.8604938271604938\n"
     ]
    }
   ],
   "source": [
    "# Now lets predict and print the results for overall precision and recall values for our model.\n",
    "# We'll plot these values to see later on (see the next 2 cells).\n",
    "\n",
    "from sklearn.metrics import precision_score, recall_score\n",
    "\n",
    "print(\"Overall Precision:\",precision_score(y_test, predictions))\n",
    "print(\"Overall Recall:\",recall_score(y_test, predictions))"
   ]
  },
  {
   "cell_type": "code",
   "execution_count": 14,
   "metadata": {},
   "outputs": [
    {
     "data": {
      "text/plain": [
       "Pipeline(steps=[('standardscaler', StandardScaler()),\n",
       "                ('linearsvc', LinearSVC(random_state=42))])"
      ]
     },
     "execution_count": 14,
     "metadata": {},
     "output_type": "execute_result"
    }
   ],
   "source": [
    "# Making our pipeline to use with the precision recall display\n",
    "# we'll use the binary predictions of our model and create our pipeline.\n",
    "\n",
    "from sklearn.pipeline import make_pipeline\n",
    "from sklearn.preprocessing import StandardScaler\n",
    "from sklearn.svm import LinearSVC\n",
    "\n",
    "classifier = make_pipeline(StandardScaler(), LinearSVC(random_state=42))\n",
    "classifier.fit(X_train, y_train)"
   ]
  },
  {
   "cell_type": "code",
   "execution_count": 15,
   "metadata": {},
   "outputs": [
    {
     "data": {
      "image/png": "[encoded data removed]",
      "text/plain": [
       "<Figure size 432x288 with 1 Axes>"
      ]
     },
     "metadata": {
      "needs_background": "light"
     },
     "output_type": "display_data"
    }
   ],
   "source": [
    "# As we already have our probabilities, we can visualise the precision recall curve using from_predictions method.\n",
    "# if we didn't have them, we could use from_estimator and add the classifier parameter from the \n",
    "# classifier pipeline to the display method.\n",
    "\n",
    "from sklearn.metrics import PrecisionRecallDisplay\n",
    "\n",
    "y_score = classifier.decision_function(X_test)\n",
    "\n",
    "display = PrecisionRecallDisplay.from_predictions(\n",
    "    y_test, y_score, name=\"LinearSVC\"\n",
    ")\n",
    "_ = display.ax_.set_title(\"Moons Data Precision-Recall curve\")"
   ]
  },
  {
   "cell_type": "code",
   "execution_count": 16,
   "metadata": {},
   "outputs": [
    {
     "name": "stdout",
     "output_type": "stream",
     "text": [
      "              precision    recall  f1-score   support\n",
      "\n",
      "           0       0.87      0.87      0.87      1680\n",
      "           1       0.86      0.86      0.86      1620\n",
      "\n",
      "    accuracy                           0.86      3300\n",
      "   macro avg       0.86      0.86      0.86      3300\n",
      "weighted avg       0.86      0.86      0.86      3300\n",
      "\n"
     ]
    }
   ],
   "source": [
    "# Lets use the classification report to see how our model is performing.\n",
    "\n",
    "from sklearn.metrics import classification_report\n",
    "print(classification_report(y_test, predictions))"
   ]
  },
  {
   "cell_type": "code",
   "execution_count": 17,
   "metadata": {},
   "outputs": [
    {
     "name": "stdout",
     "output_type": "stream",
     "text": [
      "MSE: 0.13636363636363635\n"
     ]
    }
   ],
   "source": [
    "# Evaluate the model MSE using the test data\n",
    "\n",
    "mse = mean_squared_error(y_test, predictions)   # Mean Squared Error\n",
    "print(\"MSE:\", mse)"
   ]
  },
  {
   "cell_type": "code",
   "execution_count": 18,
   "metadata": {},
   "outputs": [
    {
     "data": {
      "image/png": "[encoded data removed]",
      "text/plain": [
       "<Figure size 432x432 with 1 Axes>"
      ]
     },
     "metadata": {
      "needs_background": "light"
     },
     "output_type": "display_data"
    }
   ],
   "source": [
    "# Lets plot the ROC curve using the test data\n",
    "from sklearn.metrics import roc_curve\n",
    "import matplotlib.pyplot as plt\n",
    "%matplotlib inline\n",
    "\n",
    "\n",
    "# calculate ROC curve\n",
    "fpr, tpr, thresholds = roc_curve(y_test, y_score)\n",
    "\n",
    "# plot ROC curve\n",
    "fig = plt.figure(figsize=(6, 6))\n",
    "\n",
    "# Plot the diagonal 50% line\n",
    "plt.plot([0, 1], [0, 1], 'k--')\n",
    "\n",
    "# Plot the FPR and TPR achieved by our model\n",
    "plt.plot(fpr, tpr)\n",
    "plt.xlabel('False Positive Rate')\n",
    "plt.ylabel('True Positive Rate')\n",
    "plt.title('ROC Curve')\n",
    "plt.show()"
   ]
  },
  {
   "cell_type": "markdown",
   "metadata": {},
   "source": [
    "The ROC chart above shows the curve of the true and false positive rates for different threshold values between 0 and 1.\n",
    " \n",
    "A perfect classifier would have a curve that goes straight up the left side and straight across the top. \n",
    "\n",
    "The diagonal line across the chart represents the probability of predicting correctly with a 50/50 random prediction;\n",
    " \n",
    "Obviously we want the curve to be higher than that (or our model is just simply guessing!)."
   ]
  },
  {
   "cell_type": "code",
   "execution_count": 19,
   "metadata": {},
   "outputs": [
    {
     "name": "stdout",
     "output_type": "stream",
     "text": [
      "AUC: 0.914241255144033\n"
     ]
    }
   ],
   "source": [
    "# The area under the curve (AUC) is a value between 0 and 1 that quantifies the overall performance of the model. \n",
    "# The closer to 1 this value is, the better the model, implement scikit-Learn function to calculate this metric.\n",
    "\n",
    "from sklearn.metrics import roc_auc_score\n",
    "\n",
    "auc = roc_auc_score(y_test,y_score)\n",
    "print('AUC: ' + str(auc))"
   ]
  },
  {
   "cell_type": "markdown",
   "id": "533f66cd",
   "metadata": {},
   "source": [
    "# SVM - using make_moons dataset"
   ]
  },
  {
   "cell_type": "code",
   "execution_count": 20,
   "id": "c3ae3fc7",
   "metadata": {},
   "outputs": [],
   "source": [
    "# -*- coding: utf-8 -*-\n",
    "\"\"\"\n",
    "Created on Thu Feb 17 10:21:48 2022\n",
    "@credits: https://github.com/ageron/handson-ml/blob/master/05_support_vector_machines.ipynb\n",
    "\"\"\"\n",
    "# Train an SVM classifier on the make_moons dataset. Since SVM classifiers are binary classifiers, \n",
    "# you will need to use one-versus-all to classifyall 10 digits. # You may want to tune the hyperparameters using small \n",
    "# validation sets to speed up the process. What accuracy can you reach? First, let's load the dataset and split it \n",
    "# into a training set and a test set. \n",
    "\n",
    "# To support both python 2 and python 3\n",
    "\n",
    "# Common imports\n",
    "import numpy as np\n",
    "\n",
    "# to make this notebook's output stable across runs np.random.seed(42)\n",
    "from sklearn.svm import SVC, LinearSVC\n",
    "from sklearn.preprocessing import StandardScaler\n",
    "from sklearn.datasets import make_moons\n",
    "X, y = make_moons(n_samples=10000, noise=0.4, random_state=42)\n",
    "\n",
    "\n",
    "import pandas as pd\n",
    "from sklearn.metrics import mean_squared_error, r2_score\n",
    "import numpy as np\n",
    "import matplotlib.pyplot as plt\n",
    "%matplotlib inline\n"
   ]
  },
  {
   "cell_type": "code",
   "execution_count": 21,
   "id": "05c0026f",
   "metadata": {},
   "outputs": [],
   "source": [
    "# Split it into a training set and a test set using train_test_split().\n",
    "\n",
    "from sklearn.model_selection import train_test_split\n",
    "\n",
    "X_train, X_test, y_train, y_test = train_test_split(X, y, test_size=0.33, random_state=42)"
   ]
  },
  {
   "cell_type": "code",
   "execution_count": 22,
   "id": "bfc768ce",
   "metadata": {},
   "outputs": [
    {
     "data": {
      "text/plain": [
       "LinearSVC(random_state=42)"
      ]
     },
     "execution_count": 22,
     "metadata": {},
     "output_type": "execute_result"
    }
   ],
   "source": [
    "# Let's start simple, with a linear SVM classifier. It will automatically use the One-vs-All \n",
    "# (also called One-vs-the-Rest, OvR) strategy, so there's nothing special we need to do. Easy!\n",
    "\n",
    "lin_clf = LinearSVC(random_state=42)\n",
    "lin_clf.fit(X_train, y_train)"
   ]
  },
  {
   "cell_type": "code",
   "execution_count": 23,
   "id": "3b3706cc",
   "metadata": {},
   "outputs": [
    {
     "data": {
      "text/plain": [
       "0.832089552238806"
      ]
     },
     "execution_count": 23,
     "metadata": {},
     "output_type": "execute_result"
    }
   ],
   "source": [
    "# Let's make predictions on the training set and measure the accuracy \n",
    "# (we don't want to measure it on the test set yet, since we have not selected and trained the final model yet):\n",
    "\n",
    "from sklearn.metrics import accuracy_score\n",
    "\n",
    "y_pred = lin_clf.predict(X_train)\n",
    "accuracy_score(y_train, y_pred)\n"
   ]
  },
  {
   "cell_type": "code",
   "execution_count": 24,
   "id": "2b2b25d3",
   "metadata": {},
   "outputs": [
    {
     "data": {
      "text/plain": [
       "0.8319402985074626"
      ]
     },
     "execution_count": 24,
     "metadata": {},
     "output_type": "execute_result"
    }
   ],
   "source": [
    "# 83% accuracy on make_moons is a really bad performance. \n",
    "\n",
    "scaler = StandardScaler()\n",
    "X_train_scaled = scaler.fit_transform(X_train.astype(np.float32))\n",
    "X_test_scaled = scaler.transform(X_test.astype(np.float32))\n",
    "\n",
    "lin_clf = LinearSVC(random_state=42)\n",
    "lin_clf.fit(X_train_scaled, y_train)\n",
    "\n",
    "y_pred = lin_clf.predict(X_train_scaled)\n",
    "accuracy_score(y_train, y_pred)"
   ]
  },
  {
   "cell_type": "code",
   "execution_count": 25,
   "id": "3cbaaa6b",
   "metadata": {},
   "outputs": [
    {
     "data": {
      "text/plain": [
       "0.8637313432835821"
      ]
     },
     "execution_count": 25,
     "metadata": {},
     "output_type": "execute_result"
    }
   ],
   "source": [
    "# If we want to use an SVM, we will have to use a kernel. Let's try an SVC with an RBF kernel (the default).\n",
    "\n",
    "# Warning: if you are using Scikit-Learn ≤ 0.19, the SVC class will use the One-vs-One (OvO) strategy by default,\n",
    "# so you must explicitly setdecision_function_shape=\"ovr\" if you want to use the OvR strategy instead (OvR is the default since 0.19).\n",
    "\n",
    "svm_clf = SVC(decision_function_shape=\"ovr\", gamma=\"auto\")\n",
    "svm_clf.fit(X_train_scaled[:10000], y_train[:10000])\n",
    "\n",
    "y_pred = svm_clf.predict(X_train_scaled)\n",
    "accuracy_score(y_train, y_pred)\n",
    "\n",
    "# check if you have got better accuracy now \n"
   ]
  },
  {
   "cell_type": "code",
   "execution_count": 26,
   "id": "cb7b5b06",
   "metadata": {},
   "outputs": [
    {
     "name": "stdout",
     "output_type": "stream",
     "text": [
      "Fitting 3 folds for each of 10 candidates, totalling 30 fits\n",
      "[CV] END ...C=1.5389902223899845, gamma=0.005163734103724241; total time=   0.0s\n",
      "[CV] END ...C=1.5389902223899845, gamma=0.005163734103724241; total time=   0.0s\n",
      "[CV] END ...C=1.5389902223899845, gamma=0.005163734103724241; total time=   0.0s\n",
      "[CV] END ...C=7.618367639386253, gamma=0.0019871205992705405; total time=   0.0s\n",
      "[CV] END ...C=7.618367639386253, gamma=0.0019871205992705405; total time=   0.0s\n",
      "[CV] END ...C=7.618367639386253, gamma=0.0019871205992705405; total time=   0.0s\n",
      "[CV] END ...C=2.119094047586323, gamma=0.0028095780159400037; total time=   0.0s\n",
      "[CV] END ...C=2.119094047586323, gamma=0.0028095780159400037; total time=   0.0s\n",
      "[CV] END ...C=2.119094047586323, gamma=0.0028095780159400037; total time=   0.0s\n",
      "[CV] END ....C=6.445729101720833, gamma=0.014921937819165058; total time=   0.0s\n",
      "[CV] END ....C=6.445729101720833, gamma=0.014921937819165058; total time=   0.0s\n",
      "[CV] END ....C=6.445729101720833, gamma=0.014921937819165058; total time=   0.0s\n",
      "[CV] END ..C=10.542765168954443, gamma=0.0020559391109174602; total time=   0.0s\n",
      "[CV] END ..C=10.542765168954443, gamma=0.0020559391109174602; total time=   0.0s\n",
      "[CV] END ..C=10.542765168954443, gamma=0.0020559391109174602; total time=   0.0s\n",
      "[CV] END ....C=2.104290499768621, gamma=0.010583366352215769; total time=   0.0s\n",
      "[CV] END ....C=2.104290499768621, gamma=0.010583366352215769; total time=   0.0s\n",
      "[CV] END ....C=2.104290499768621, gamma=0.010583366352215769; total time=   0.0s\n",
      "[CV] END ....C=5.002862619864761, gamma=0.038340160351732766; total time=   0.0s\n",
      "[CV] END ....C=5.002862619864761, gamma=0.038340160351732766; total time=   0.0s\n",
      "[CV] END ....C=5.002862619864761, gamma=0.038340160351732766; total time=   0.0s\n",
      "[CV] END ....C=2.442386256462137, gamma=0.011167476606995352; total time=   0.0s\n",
      "[CV] END ....C=2.442386256462137, gamma=0.011167476606995352; total time=   0.0s\n",
      "[CV] END ....C=2.442386256462137, gamma=0.011167476606995352; total time=   0.0s\n",
      "[CV] END ....C=10.301873785606507, gamma=0.04271850480426976; total time=   0.0s\n",
      "[CV] END ....C=10.301873785606507, gamma=0.04271850480426976; total time=   0.0s\n",
      "[CV] END ....C=10.301873785606507, gamma=0.04271850480426976; total time=   0.0s\n",
      "[CV] END ....C=4.150022287433131, gamma=0.014389172613894578; total time=   0.0s\n",
      "[CV] END ....C=4.150022287433131, gamma=0.014389172613894578; total time=   0.0s\n",
      "[CV] END ....C=4.150022287433131, gamma=0.014389172613894578; total time=   0.0s\n"
     ]
    },
    {
     "data": {
      "text/plain": [
       "0.8330336324348301"
      ]
     },
     "execution_count": 26,
     "metadata": {},
     "output_type": "execute_result"
    }
   ],
   "source": [
    "# Let's tune the hyperparameters by doing a randomized search with cross validation. \n",
    "# We will do this on a small dataset just to speed up the process:\n",
    "\n",
    "from sklearn.model_selection import RandomizedSearchCV\n",
    "from scipy.stats import reciprocal, uniform\n",
    "\n",
    "param_distributions = {\"gamma\": reciprocal(0.001, 0.1), \"C\": uniform(1, 10)}\n",
    "rnd_search_cv = RandomizedSearchCV(svm_clf, param_distributions, n_iter=10, verbose=2, cv=3)\n",
    "rnd_search_cv.fit(X_train_scaled[:1000], y_train[:1000])\n",
    "rnd_search_cv.best_estimator_\n",
    "rnd_search_cv.best_score_\n"
   ]
  },
  {
   "cell_type": "code",
   "execution_count": 27,
   "id": "519a88ce",
   "metadata": {},
   "outputs": [
    {
     "data": {
      "text/plain": [
       "0.8482089552238806"
      ]
     },
     "execution_count": 27,
     "metadata": {},
     "output_type": "execute_result"
    }
   ],
   "source": [
    "# This looks pretty low but remember we only trained the model on 1,000 instances. Let's retrain the \n",
    "# best estimator on the whole training set and measure its accuracy on the test set:\n",
    " \n",
    "rnd_search_cv.best_estimator_.fit(X_train_scaled, y_train)\n",
    "y_pred = rnd_search_cv.best_estimator_.predict(X_train_scaled)\n",
    "accuracy_score(y_train, y_pred)\n",
    "\n"
   ]
  },
  {
   "cell_type": "code",
   "execution_count": 28,
   "metadata": {},
   "outputs": [
    {
     "data": {
      "text/plain": [
       "0.8475757575757575"
      ]
     },
     "execution_count": 28,
     "metadata": {},
     "output_type": "execute_result"
    }
   ],
   "source": [
    "# 85% accuracy this still looks poor! Let's select this model. Now we can test it on the test set:\n",
    " \n",
    "y_pred = rnd_search_cv.best_estimator_.predict(X_test_scaled)\n",
    "accuracy_score(y_test, y_pred)\n",
    "\n",
    "# Not too bad, but the model is overfitting slightly. It's tempting to tweak the \n",
    "# hyperparameters a bit more (e.g. decreasing C and/or gamma), but we would run the risk of overfitting the test set. \n",
    "# Other people have found that the hyperparameters C=5 and gamma=0.005 yield even better performance (over 98% accuracy). \n",
    "# By running the randomized search for longer and on a larger part of the training set, you may be able to find this as well"
   ]
  },
  {
   "cell_type": "code",
   "execution_count": 29,
   "metadata": {},
   "outputs": [
    {
     "name": "stdout",
     "output_type": "stream",
     "text": [
      "SVC(C=5.002862619864761, gamma=0.038340160351732766) \n",
      "\n"
     ]
    }
   ],
   "source": [
    "# Train the model\n",
    "model = rnd_search_cv.best_estimator_\n",
    "print (model, \"\\n\")\n"
   ]
  },
  {
   "cell_type": "code",
   "execution_count": 30,
   "metadata": {},
   "outputs": [
    {
     "name": "stdout",
     "output_type": "stream",
     "text": [
      "MSE: 0.16636363636363635\n"
     ]
    }
   ],
   "source": [
    "# Evaluate the model using the test data\n",
    "\n",
    "predictions = model.predict(X_test)\n",
    "mse = mean_squared_error(y_test, predictions)\n",
    "\n",
    "print(\"MSE:\", mse)"
   ]
  },
  {
   "cell_type": "code",
   "execution_count": 31,
   "metadata": {},
   "outputs": [
    {
     "data": {
      "text/plain": [
       "array([[1369,  311],\n",
       "       [ 238, 1382]], dtype=int64)"
      ]
     },
     "execution_count": 31,
     "metadata": {},
     "output_type": "execute_result"
    }
   ],
   "source": [
    "# Lets look at the confusion_matrix of our test dataset to see how our model is\n",
    "# performing in terms of classification.\n",
    "\n",
    "from sklearn.metrics import confusion_matrix\n",
    "\n",
    "confusion_matrix(y_test, predictions, labels=[0, 1])"
   ]
  },
  {
   "cell_type": "code",
   "execution_count": 32,
   "metadata": {},
   "outputs": [
    {
     "name": "stdout",
     "output_type": "stream",
     "text": [
      "[ 2.20105659  1.16555479 -1.60260757 ...  2.03826885  0.55758813\n",
      " -1.75872039]\n"
     ]
    }
   ],
   "source": [
    "y_scores = model.decision_function(X_test_scaled)\n",
    "print(y_scores)"
   ]
  },
  {
   "cell_type": "code",
   "execution_count": 33,
   "metadata": {},
   "outputs": [
    {
     "name": "stdout",
     "output_type": "stream",
     "text": [
      "Overall Precision: 0.8163024217365623\n",
      "Overall Recall: 0.8530864197530864\n"
     ]
    }
   ],
   "source": [
    "# Now lets predict overall precision and recall values for our model.\n",
    "\n",
    "from sklearn.metrics import precision_score, recall_score\n",
    "\n",
    "print(\"Overall Precision:\",precision_score(y_test, predictions))\n",
    "print(\"Overall Recall:\",recall_score(y_test, predictions))"
   ]
  },
  {
   "cell_type": "code",
   "execution_count": 34,
   "metadata": {},
   "outputs": [
    {
     "data": {
      "text/plain": [
       "Pipeline(steps=[('standardscaler', StandardScaler()),\n",
       "                ('linearsvc', LinearSVC(random_state=42))])"
      ]
     },
     "execution_count": 34,
     "metadata": {},
     "output_type": "execute_result"
    }
   ],
   "source": [
    "# Making our pipeline to use with the precision recall display\n",
    "# we'll use the binary predictions of our model and create our pipeline.\n",
    "\n",
    "from sklearn.pipeline import make_pipeline\n",
    "from sklearn.preprocessing import StandardScaler\n",
    "from sklearn.svm import LinearSVC\n",
    "\n",
    "classifier = make_pipeline(StandardScaler(), LinearSVC(random_state=42))\n",
    "classifier.fit(X_train, y_train)"
   ]
  },
  {
   "cell_type": "code",
   "execution_count": 35,
   "metadata": {},
   "outputs": [
    {
     "data": {
      "image/png": "[encoded data removed]",
      "text/plain": [
       "<Figure size 432x288 with 1 Axes>"
      ]
     },
     "metadata": {
      "needs_background": "light"
     },
     "output_type": "display_data"
    }
   ],
   "source": [
    "# As we already have our probabilities, we can visualise the precision recall curve using from_predictions method.\n",
    "# if we didn't have them, we could use from_estimator and add the classifier parameter from the \n",
    "# classifier pipeline to the display method.\n",
    "\n",
    "from sklearn.metrics import PrecisionRecallDisplay\n",
    "\n",
    "y_score = classifier.decision_function(X_test)\n",
    "\n",
    "display = PrecisionRecallDisplay.from_predictions(\n",
    "    y_test, y_scores, name=\"LinearSVC\"\n",
    ")\n",
    "_ = display.ax_.set_title(\"Moons Data Precision-Recall curve\")"
   ]
  },
  {
   "cell_type": "code",
   "execution_count": 36,
   "id": "40bcd971",
   "metadata": {},
   "outputs": [
    {
     "data": {
      "image/png": "[encoded data removed]",
      "text/plain": [
       "<Figure size 432x432 with 1 Axes>"
      ]
     },
     "metadata": {
      "needs_background": "light"
     },
     "output_type": "display_data"
    }
   ],
   "source": [
    "from sklearn.metrics import roc_curve\n",
    "import matplotlib.pyplot as plt\n",
    "%matplotlib inline\n",
    "\n",
    "# calculate ROC curve\n",
    "fpr, tpr, thresholds = roc_curve(y_test, y_scores)\n",
    "\n",
    "# plot ROC curve\n",
    "fig = plt.figure(figsize=(6, 6))\n",
    "\n",
    "# Plot the diagonal 50% line\n",
    "plt.plot([0, 1], [0, 1], 'k--')\n",
    "\n",
    "# Plot the FPR and TPR achieved by our model\n",
    "plt.plot(fpr, tpr)\n",
    "plt.xlabel('False Positive Rate')\n",
    "plt.ylabel('True Positive Rate')\n",
    "plt.title('ROC Curve')\n",
    "\n",
    "plt.show()"
   ]
  },
  {
   "cell_type": "code",
   "execution_count": 37,
   "metadata": {},
   "outputs": [
    {
     "name": "stdout",
     "output_type": "stream",
     "text": [
      "AUC: 0.9268937389770724\n"
     ]
    }
   ],
   "source": [
    "# The area under the curve (AUC) is a value between 0 and 1 that quantifies the overall performance of the model. \n",
    "# The closer to 1 this value is, the better the model, implement scikit-Learn function to calculate this metric.\n",
    "\n",
    "from sklearn.metrics import roc_auc_score\n",
    "\n",
    "auc = roc_auc_score(y_test, y_scores)\n",
    "print('AUC: ' + str(auc))"
   ]
  }
 ],
 "metadata": {
  "interpreter": {
   "hash": "8c37a36ebd41aa80f0775b11e4667c6bf8afd69f148c9200f15f10f807654d58"
  },
  "kernelspec": {
   "display_name": "Python 3.8.5 ('base')",
   "language": "python",
   "name": "python3"
  },
  "language_info": {
   "codemirror_mode": {
    "name": "ipython",
    "version": 3
   },
   "file_extension": ".py",
   "mimetype": "text/x-python",
   "name": "python",
   "nbconvert_exporter": "python",
   "pygments_lexer": "ipython3",
   "version": "3.8.5"
  },
  "orig_nbformat": 4
 },
 "nbformat": 4,
 "nbformat_minor": 2
}
