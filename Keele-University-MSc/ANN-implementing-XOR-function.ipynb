{
 "cells": [
  {
   "cell_type": "code",
   "execution_count": 2,
   "metadata": {},
   "outputs": [],
   "source": [
    "# -*- coding: utf-8 -*-\n",
    "\"\"\"\n",
    "Created on Tue Feb 15 17:56:17 2022\n",
    "@credits: Goodfellow et al. 2016\n",
    "additional resource: https://towardsdatascience.com/how-neural-networks-solve-the-xor-problem-59763136bdd7\n",
    "\"\"\"\n",
    "# This functions implements the XOR function using neural network when the weights already given\n",
    "import numpy as np"
   ]
  },
  {
   "cell_type": "code",
   "execution_count": 15,
   "metadata": {},
   "outputs": [
    {
     "name": "stdout",
     "output_type": "stream",
     "text": [
      "Input Feature Shape (1, 2)\n",
      "h= [[1 0]]\n",
      "Final Output 1\n"
     ]
    }
   ],
   "source": [
    "def relu(X):\n",
    "    return np.maximum(X, 0)\n",
    "\n",
    "# input_features = np.array([[0, 0], [0, 1], [1, 0], [1, 1]])\n",
    "\n",
    "input_features = np.array([[0, 1]])\n",
    "print('Input Feature Shape', input_features.shape)\n",
    "\n",
    "hidden_layer_weights = np.array([[1,1],[1,1]])\n",
    "bias_hidden_layer = [0, -1]\n",
    "\n",
    "#print(hidden_layer_weights.shape)\n",
    "#print( (hidden_layer_weights[:, 0]).shape)\n",
    "\n",
    "h = np.dot(input_features , hidden_layer_weights) +bias_hidden_layer\n",
    "h = relu(h)\n",
    "print('h=', h)\n",
    "h1 = h[:,0]\n",
    "h2 = h[:,1]\n",
    "\n",
    "#print(h.shape)\n",
    "output_layer_weights = np.array([[1,-2]])\n",
    "bias_output =0\n",
    "final_output =relu((np.dot(h1, output_layer_weights[:,0]) + np.dot(h2, output_layer_weights[:,1])+bias_output))\n",
    "\n",
    "print('Final Output', final_output)"
   ]
  }
 ],
 "metadata": {
  "interpreter": {
   "hash": "8c37a36ebd41aa80f0775b11e4667c6bf8afd69f148c9200f15f10f807654d58"
  },
  "kernelspec": {
   "display_name": "Python 3.8.5 ('base')",
   "language": "python",
   "name": "python3"
  },
  "language_info": {
   "codemirror_mode": {
    "name": "ipython",
    "version": 3
   },
   "file_extension": ".py",
   "mimetype": "text/x-python",
   "name": "python",
   "nbconvert_exporter": "python",
   "pygments_lexer": "ipython3",
   "version": "3.8.5"
  },
  "orig_nbformat": 4
 },
 "nbformat": 4,
 "nbformat_minor": 2
}
