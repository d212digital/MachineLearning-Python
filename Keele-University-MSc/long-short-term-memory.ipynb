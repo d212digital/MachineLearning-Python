{
 "cells": [
  {
   "cell_type": "code",
   "execution_count": 1,
   "metadata": {},
   "outputs": [],
   "source": [
    "'''\n",
    "@credits: https://machinelearningmastery.com/time-series-prediction-lstm-recurrent-neural-networks-python-keras/\n",
    "'''\n",
    "# LSTM for international airline passengers problem with regression framing\n",
    "import numpy\n",
    "import matplotlib.pyplot as plt\n",
    "from pandas import read_csv\n",
    "import math\n",
    "from keras.models import Sequential\n",
    "from keras.layers import Dense\n",
    "from keras.layers import LSTM\n",
    "from sklearn.preprocessing import MinMaxScaler\n",
    "from sklearn.metrics import mean_squared_error"
   ]
  },
  {
   "cell_type": "code",
   "execution_count": 2,
   "metadata": {},
   "outputs": [],
   "source": [
    "# convert an array of values into a dataset matrix\n",
    "def create_dataset(dataset, look_back=1):\n",
    "    dataX, dataY = [], []\n",
    "    for i in range(len(dataset)-look_back-1):\n",
    "        a = dataset[i:(i+look_back), 0]\n",
    "        dataX.append(a)\n",
    "        dataY.append(dataset[i + look_back, 0])\n",
    "    return numpy.array(dataX), numpy.array(dataY)\n"
   ]
  },
  {
   "cell_type": "code",
   "execution_count": 3,
   "metadata": {},
   "outputs": [],
   "source": [
    "# fix random seed for reproducibility\n",
    "numpy.random.seed(7)\n"
   ]
  },
  {
   "cell_type": "code",
   "execution_count": 4,
   "metadata": {},
   "outputs": [],
   "source": [
    "# load the dataset\n",
    "dataframe = read_csv('airline-passengers.csv', usecols=[1], engine='python')\n",
    "dataset = dataframe.values\n",
    "dataset = dataset.astype('float32')"
   ]
  },
  {
   "cell_type": "code",
   "execution_count": 5,
   "metadata": {},
   "outputs": [],
   "source": [
    "# normalize the dataset\n",
    "scaler = MinMaxScaler(feature_range=(0, 1))\n",
    "dataset = scaler.fit_transform(dataset)"
   ]
  },
  {
   "cell_type": "code",
   "execution_count": 6,
   "metadata": {},
   "outputs": [],
   "source": [
    "# split into train and test sets\n",
    "train_size = int(len(dataset) * 0.67)\n",
    "test_size = len(dataset) - train_size\n",
    "train, test = dataset[0:train_size,:], dataset[train_size:len(dataset),:]\n"
   ]
  },
  {
   "cell_type": "code",
   "execution_count": 7,
   "metadata": {},
   "outputs": [],
   "source": [
    "# reshape into X=t and Y=t+1\n",
    "look_back = 1\n",
    "trainX, trainY = create_dataset(train, look_back)\n",
    "testX, testY = create_dataset(test, look_back)\n"
   ]
  },
  {
   "cell_type": "code",
   "execution_count": 8,
   "metadata": {},
   "outputs": [],
   "source": [
    "# reshape input to be [samples, time steps, features]\n",
    "trainX = numpy.reshape(trainX, (trainX.shape[0], 1, trainX.shape[1]))\n",
    "testX = numpy.reshape(testX, (testX.shape[0], 1, testX.shape[1]))"
   ]
  },
  {
   "cell_type": "code",
   "execution_count": 9,
   "metadata": {},
   "outputs": [
    {
     "name": "stdout",
     "output_type": "stream",
     "text": [
      "Epoch 1/100\n",
      "94/94 - 2s - loss: 0.0402 - 2s/epoch - 24ms/step\n",
      "Epoch 2/100\n",
      "94/94 - 0s - loss: 0.0197 - 205ms/epoch - 2ms/step\n",
      "Epoch 3/100\n",
      "94/94 - 0s - loss: 0.0143 - 209ms/epoch - 2ms/step\n",
      "Epoch 4/100\n",
      "94/94 - 0s - loss: 0.0130 - 282ms/epoch - 3ms/step\n",
      "Epoch 5/100\n",
      "94/94 - 0s - loss: 0.0121 - 257ms/epoch - 3ms/step\n",
      "Epoch 6/100\n",
      "94/94 - 0s - loss: 0.0113 - 251ms/epoch - 3ms/step\n",
      "Epoch 7/100\n",
      "94/94 - 0s - loss: 0.0105 - 248ms/epoch - 3ms/step\n",
      "Epoch 8/100\n",
      "94/94 - 0s - loss: 0.0095 - 225ms/epoch - 2ms/step\n",
      "Epoch 9/100\n",
      "94/94 - 0s - loss: 0.0086 - 210ms/epoch - 2ms/step\n",
      "Epoch 10/100\n",
      "94/94 - 0s - loss: 0.0076 - 178ms/epoch - 2ms/step\n",
      "Epoch 11/100\n",
      "94/94 - 0s - loss: 0.0067 - 189ms/epoch - 2ms/step\n",
      "Epoch 12/100\n",
      "94/94 - 0s - loss: 0.0057 - 223ms/epoch - 2ms/step\n",
      "Epoch 13/100\n",
      "94/94 - 0s - loss: 0.0048 - 243ms/epoch - 3ms/step\n",
      "Epoch 14/100\n",
      "94/94 - 0s - loss: 0.0040 - 225ms/epoch - 2ms/step\n",
      "Epoch 15/100\n",
      "94/94 - 0s - loss: 0.0033 - 248ms/epoch - 3ms/step\n",
      "Epoch 16/100\n",
      "94/94 - 0s - loss: 0.0028 - 237ms/epoch - 3ms/step\n",
      "Epoch 17/100\n",
      "94/94 - 0s - loss: 0.0025 - 189ms/epoch - 2ms/step\n",
      "Epoch 18/100\n",
      "94/94 - 0s - loss: 0.0022 - 176ms/epoch - 2ms/step\n",
      "Epoch 19/100\n",
      "94/94 - 0s - loss: 0.0021 - 183ms/epoch - 2ms/step\n",
      "Epoch 20/100\n",
      "94/94 - 0s - loss: 0.0021 - 199ms/epoch - 2ms/step\n",
      "Epoch 21/100\n",
      "94/94 - 0s - loss: 0.0021 - 190ms/epoch - 2ms/step\n",
      "Epoch 22/100\n",
      "94/94 - 0s - loss: 0.0020 - 201ms/epoch - 2ms/step\n",
      "Epoch 23/100\n",
      "94/94 - 0s - loss: 0.0020 - 243ms/epoch - 3ms/step\n",
      "Epoch 24/100\n",
      "94/94 - 0s - loss: 0.0020 - 255ms/epoch - 3ms/step\n",
      "Epoch 25/100\n",
      "94/94 - 0s - loss: 0.0020 - 206ms/epoch - 2ms/step\n",
      "Epoch 26/100\n",
      "94/94 - 0s - loss: 0.0020 - 170ms/epoch - 2ms/step\n",
      "Epoch 27/100\n",
      "94/94 - 0s - loss: 0.0020 - 171ms/epoch - 2ms/step\n",
      "Epoch 28/100\n",
      "94/94 - 0s - loss: 0.0020 - 171ms/epoch - 2ms/step\n",
      "Epoch 29/100\n",
      "94/94 - 0s - loss: 0.0021 - 243ms/epoch - 3ms/step\n",
      "Epoch 30/100\n",
      "94/94 - 0s - loss: 0.0020 - 184ms/epoch - 2ms/step\n",
      "Epoch 31/100\n",
      "94/94 - 0s - loss: 0.0020 - 162ms/epoch - 2ms/step\n",
      "Epoch 32/100\n",
      "94/94 - 0s - loss: 0.0020 - 181ms/epoch - 2ms/step\n",
      "Epoch 33/100\n",
      "94/94 - 0s - loss: 0.0020 - 245ms/epoch - 3ms/step\n",
      "Epoch 34/100\n",
      "94/94 - 0s - loss: 0.0020 - 208ms/epoch - 2ms/step\n",
      "Epoch 35/100\n",
      "94/94 - 0s - loss: 0.0021 - 197ms/epoch - 2ms/step\n",
      "Epoch 36/100\n",
      "94/94 - 0s - loss: 0.0020 - 162ms/epoch - 2ms/step\n",
      "Epoch 37/100\n",
      "94/94 - 0s - loss: 0.0020 - 171ms/epoch - 2ms/step\n",
      "Epoch 38/100\n",
      "94/94 - 0s - loss: 0.0020 - 171ms/epoch - 2ms/step\n",
      "Epoch 39/100\n",
      "94/94 - 0s - loss: 0.0020 - 153ms/epoch - 2ms/step\n",
      "Epoch 40/100\n",
      "94/94 - 0s - loss: 0.0021 - 171ms/epoch - 2ms/step\n",
      "Epoch 41/100\n",
      "94/94 - 0s - loss: 0.0020 - 241ms/epoch - 3ms/step\n",
      "Epoch 42/100\n",
      "94/94 - 0s - loss: 0.0020 - 169ms/epoch - 2ms/step\n",
      "Epoch 43/100\n",
      "94/94 - 0s - loss: 0.0021 - 176ms/epoch - 2ms/step\n",
      "Epoch 44/100\n",
      "94/94 - 0s - loss: 0.0020 - 190ms/epoch - 2ms/step\n",
      "Epoch 45/100\n",
      "94/94 - 0s - loss: 0.0020 - 181ms/epoch - 2ms/step\n",
      "Epoch 46/100\n",
      "94/94 - 0s - loss: 0.0020 - 147ms/epoch - 2ms/step\n",
      "Epoch 47/100\n",
      "94/94 - 0s - loss: 0.0020 - 155ms/epoch - 2ms/step\n",
      "Epoch 48/100\n",
      "94/94 - 0s - loss: 0.0021 - 163ms/epoch - 2ms/step\n",
      "Epoch 49/100\n",
      "94/94 - 0s - loss: 0.0020 - 161ms/epoch - 2ms/step\n",
      "Epoch 50/100\n",
      "94/94 - 0s - loss: 0.0021 - 171ms/epoch - 2ms/step\n",
      "Epoch 51/100\n",
      "94/94 - 0s - loss: 0.0020 - 175ms/epoch - 2ms/step\n",
      "Epoch 52/100\n",
      "94/94 - 0s - loss: 0.0020 - 145ms/epoch - 2ms/step\n",
      "Epoch 53/100\n",
      "94/94 - 0s - loss: 0.0020 - 165ms/epoch - 2ms/step\n",
      "Epoch 54/100\n",
      "94/94 - 0s - loss: 0.0020 - 173ms/epoch - 2ms/step\n",
      "Epoch 55/100\n",
      "94/94 - 0s - loss: 0.0020 - 168ms/epoch - 2ms/step\n",
      "Epoch 56/100\n",
      "94/94 - 0s - loss: 0.0021 - 170ms/epoch - 2ms/step\n",
      "Epoch 57/100\n",
      "94/94 - 0s - loss: 0.0020 - 164ms/epoch - 2ms/step\n",
      "Epoch 58/100\n",
      "94/94 - 0s - loss: 0.0020 - 177ms/epoch - 2ms/step\n",
      "Epoch 59/100\n",
      "94/94 - 0s - loss: 0.0020 - 163ms/epoch - 2ms/step\n",
      "Epoch 60/100\n",
      "94/94 - 0s - loss: 0.0020 - 183ms/epoch - 2ms/step\n",
      "Epoch 61/100\n",
      "94/94 - 0s - loss: 0.0021 - 167ms/epoch - 2ms/step\n",
      "Epoch 62/100\n",
      "94/94 - 0s - loss: 0.0020 - 176ms/epoch - 2ms/step\n",
      "Epoch 63/100\n",
      "94/94 - 0s - loss: 0.0020 - 157ms/epoch - 2ms/step\n",
      "Epoch 64/100\n",
      "94/94 - 0s - loss: 0.0020 - 178ms/epoch - 2ms/step\n",
      "Epoch 65/100\n",
      "94/94 - 0s - loss: 0.0020 - 184ms/epoch - 2ms/step\n",
      "Epoch 66/100\n",
      "94/94 - 0s - loss: 0.0020 - 158ms/epoch - 2ms/step\n",
      "Epoch 67/100\n",
      "94/94 - 0s - loss: 0.0019 - 161ms/epoch - 2ms/step\n",
      "Epoch 68/100\n",
      "94/94 - 0s - loss: 0.0020 - 159ms/epoch - 2ms/step\n",
      "Epoch 69/100\n",
      "94/94 - 0s - loss: 0.0020 - 158ms/epoch - 2ms/step\n",
      "Epoch 70/100\n",
      "94/94 - 0s - loss: 0.0020 - 160ms/epoch - 2ms/step\n",
      "Epoch 71/100\n",
      "94/94 - 0s - loss: 0.0019 - 226ms/epoch - 2ms/step\n",
      "Epoch 72/100\n",
      "94/94 - 0s - loss: 0.0021 - 184ms/epoch - 2ms/step\n",
      "Epoch 73/100\n",
      "94/94 - 0s - loss: 0.0020 - 186ms/epoch - 2ms/step\n",
      "Epoch 74/100\n",
      "94/94 - 0s - loss: 0.0020 - 201ms/epoch - 2ms/step\n",
      "Epoch 75/100\n",
      "94/94 - 0s - loss: 0.0020 - 202ms/epoch - 2ms/step\n",
      "Epoch 76/100\n",
      "94/94 - 0s - loss: 0.0020 - 175ms/epoch - 2ms/step\n",
      "Epoch 77/100\n",
      "94/94 - 0s - loss: 0.0020 - 175ms/epoch - 2ms/step\n",
      "Epoch 78/100\n",
      "94/94 - 0s - loss: 0.0020 - 220ms/epoch - 2ms/step\n",
      "Epoch 79/100\n",
      "94/94 - 0s - loss: 0.0020 - 191ms/epoch - 2ms/step\n",
      "Epoch 80/100\n",
      "94/94 - 0s - loss: 0.0021 - 202ms/epoch - 2ms/step\n",
      "Epoch 81/100\n",
      "94/94 - 0s - loss: 0.0020 - 224ms/epoch - 2ms/step\n",
      "Epoch 82/100\n",
      "94/94 - 0s - loss: 0.0020 - 217ms/epoch - 2ms/step\n",
      "Epoch 83/100\n",
      "94/94 - 0s - loss: 0.0021 - 193ms/epoch - 2ms/step\n",
      "Epoch 84/100\n",
      "94/94 - 0s - loss: 0.0020 - 205ms/epoch - 2ms/step\n",
      "Epoch 85/100\n",
      "94/94 - 0s - loss: 0.0021 - 231ms/epoch - 2ms/step\n",
      "Epoch 86/100\n",
      "94/94 - 0s - loss: 0.0020 - 247ms/epoch - 3ms/step\n",
      "Epoch 87/100\n",
      "94/94 - 0s - loss: 0.0020 - 237ms/epoch - 3ms/step\n",
      "Epoch 88/100\n",
      "94/94 - 0s - loss: 0.0020 - 267ms/epoch - 3ms/step\n",
      "Epoch 89/100\n",
      "94/94 - 0s - loss: 0.0019 - 194ms/epoch - 2ms/step\n",
      "Epoch 90/100\n",
      "94/94 - 0s - loss: 0.0021 - 152ms/epoch - 2ms/step\n",
      "Epoch 91/100\n",
      "94/94 - 0s - loss: 0.0020 - 186ms/epoch - 2ms/step\n",
      "Epoch 92/100\n",
      "94/94 - 0s - loss: 0.0020 - 170ms/epoch - 2ms/step\n",
      "Epoch 93/100\n",
      "94/94 - 0s - loss: 0.0020 - 213ms/epoch - 2ms/step\n",
      "Epoch 94/100\n",
      "94/94 - 0s - loss: 0.0020 - 172ms/epoch - 2ms/step\n",
      "Epoch 95/100\n",
      "94/94 - 0s - loss: 0.0020 - 198ms/epoch - 2ms/step\n",
      "Epoch 96/100\n",
      "94/94 - 0s - loss: 0.0020 - 182ms/epoch - 2ms/step\n",
      "Epoch 97/100\n",
      "94/94 - 0s - loss: 0.0020 - 180ms/epoch - 2ms/step\n",
      "Epoch 98/100\n",
      "94/94 - 0s - loss: 0.0020 - 184ms/epoch - 2ms/step\n",
      "Epoch 99/100\n",
      "94/94 - 0s - loss: 0.0020 - 168ms/epoch - 2ms/step\n",
      "Epoch 100/100\n",
      "94/94 - 0s - loss: 0.0020 - 210ms/epoch - 2ms/step\n"
     ]
    },
    {
     "data": {
      "text/plain": [
       "<keras.callbacks.History at 0x233af65b400>"
      ]
     },
     "execution_count": 9,
     "metadata": {},
     "output_type": "execute_result"
    }
   ],
   "source": [
    "# create and fit the LSTM network\n",
    "model = Sequential()\n",
    "model.add(LSTM(4, input_shape=(1, look_back)))\n",
    "model.add(Dense(1))\n",
    "model.compile(loss='mean_squared_error', optimizer='adam')\n",
    "model.fit(trainX, trainY, epochs=100, batch_size=1, verbose=2)"
   ]
  },
  {
   "cell_type": "code",
   "execution_count": 10,
   "metadata": {},
   "outputs": [],
   "source": [
    "# make predictions\n",
    "trainPredict = model.predict(trainX)\n",
    "testPredict = model.predict(testX)\n"
   ]
  },
  {
   "cell_type": "code",
   "execution_count": 11,
   "metadata": {},
   "outputs": [],
   "source": [
    "# invert predictions\n",
    "trainPredict = scaler.inverse_transform(trainPredict)\n",
    "trainY = scaler.inverse_transform([trainY])\n",
    "testPredict = scaler.inverse_transform(testPredict)\n",
    "testY = scaler.inverse_transform([testY])\n"
   ]
  },
  {
   "cell_type": "code",
   "execution_count": 12,
   "metadata": {},
   "outputs": [
    {
     "name": "stdout",
     "output_type": "stream",
     "text": [
      "Train Score: 22.90 RMSE\n",
      "Test Score: 51.88 RMSE\n"
     ]
    }
   ],
   "source": [
    "# calculate root mean squared error\n",
    "trainScore = math.sqrt(mean_squared_error(trainY[0], trainPredict[:,0]))\n",
    "print('Train Score: %.2f RMSE' % (trainScore))\n",
    "testScore = math.sqrt(mean_squared_error(testY[0], testPredict[:,0]))\n",
    "print('Test Score: %.2f RMSE' % (testScore))\n"
   ]
  },
  {
   "cell_type": "code",
   "execution_count": 13,
   "metadata": {},
   "outputs": [],
   "source": [
    "# shift train predictions for plotting\n",
    "trainPredictPlot = numpy.empty_like(dataset)\n",
    "trainPredictPlot[:, :] = numpy.nan\n",
    "trainPredictPlot[look_back:len(trainPredict)+look_back, :] = trainPredict"
   ]
  },
  {
   "cell_type": "code",
   "execution_count": 14,
   "metadata": {},
   "outputs": [],
   "source": [
    "# shift test predictions for plotting\n",
    "testPredictPlot = numpy.empty_like(dataset)\n",
    "testPredictPlot[:, :] = numpy.nan\n",
    "testPredictPlot[len(trainPredict)+(look_back*2)+1:len(dataset)-1, :] = testPredict"
   ]
  },
  {
   "cell_type": "code",
   "execution_count": 15,
   "metadata": {},
   "outputs": [
    {
     "data": {
      "image/png": "[encoded data removed]",
      "text/plain": [
       "<Figure size 432x288 with 1 Axes>"
      ]
     },
     "metadata": {
      "needs_background": "light"
     },
     "output_type": "display_data"
    }
   ],
   "source": [
    "# plot baseline and predictions\n",
    "plt.plot(scaler.inverse_transform(dataset))\n",
    "plt.plot(trainPredictPlot)\n",
    "plt.plot(testPredictPlot)\n",
    "plt.show()"
   ]
  },
  {
   "cell_type": "code",
   "execution_count": null,
   "metadata": {},
   "outputs": [],
   "source": [
    "'''\n",
    "LSTM for Regression with Time Steps\n",
    "You may have noticed that the data preparation for the LSTM network includes\n",
    "time steps.\n",
    "Some sequence problems may have a varied number of time steps per sample.\n",
    "For example, you may have measurements of a physical machine leading up to\n",
    "a point of failure or a point of surge. Each incident would be a sample the\n",
    " observations that lead up to the event would be the time steps, and the\n",
    " variables observed would be the features.\n",
    "Time steps provide another way to phrase our time series problem. Like\n",
    " above in the window example, we can take prior time steps in our time\n",
    " series as inputs to predict the output at the next time step.\n",
    "Instead of phrasing the past observations as separate input features,\n",
    " we can use them as time steps of the one input feature, which is indeed a\n",
    " more accurate framing of the problem.\n",
    "We can do this using the same data representation as in the previous\n",
    "window-based example, except when we reshape the data, we set the columns\n",
    "to be the time steps dimension and change the features dimension back to 1.\n",
    "For example:\n",
    "\n",
    "'''\n"
   ]
  },
  {
   "cell_type": "code",
   "execution_count": 16,
   "metadata": {},
   "outputs": [],
   "source": [
    "# LSTM for international airline passengers problem with time step regression framing\n",
    "import numpy\n",
    "import matplotlib.pyplot as plt\n",
    "from pandas import read_csv\n",
    "import math\n",
    "from keras.models import Sequential\n",
    "from keras.layers import Dense\n",
    "from keras.layers import LSTM\n",
    "from sklearn.preprocessing import MinMaxScaler\n",
    "from sklearn.metrics import mean_squared_error\n",
    "\n"
   ]
  },
  {
   "cell_type": "code",
   "execution_count": 17,
   "metadata": {},
   "outputs": [],
   "source": [
    "# convert an array of values into a dataset matrix\n",
    "def create_dataset(dataset, look_back=1):\n",
    "    dataX, dataY = [], []\n",
    "    for i in range(len(dataset)-look_back-1):\n",
    "        a = dataset[i:(i+look_back), 0]\n",
    "        dataX.append(a)\n",
    "        dataY.append(dataset[i + look_back, 0])\n",
    "    return numpy.array(dataX), numpy.array(dataY)\n"
   ]
  },
  {
   "cell_type": "code",
   "execution_count": 18,
   "metadata": {},
   "outputs": [],
   "source": [
    "# fix random seed for reproducibility\n",
    "numpy.random.seed(7)\n"
   ]
  },
  {
   "cell_type": "code",
   "execution_count": 19,
   "metadata": {},
   "outputs": [],
   "source": [
    "# load the dataset\n",
    "dataframe = read_csv('airline-passengers.csv', usecols=[1], engine='python')\n",
    "dataset = dataframe.values\n",
    "dataset = dataset.astype('float32')\n"
   ]
  },
  {
   "cell_type": "code",
   "execution_count": 20,
   "metadata": {},
   "outputs": [],
   "source": [
    "# normalize the dataset\n",
    "scaler = MinMaxScaler(feature_range=(0, 1))\n",
    "dataset = scaler.fit_transform(dataset)\n"
   ]
  },
  {
   "cell_type": "code",
   "execution_count": 21,
   "metadata": {},
   "outputs": [],
   "source": [
    "# split into train and test sets\n",
    "train_size = int(len(dataset) * 0.67)\n",
    "test_size = len(dataset) - train_size\n",
    "train, test = dataset[0:train_size,:], dataset[train_size:len(dataset),:]\n"
   ]
  },
  {
   "cell_type": "code",
   "execution_count": 22,
   "metadata": {},
   "outputs": [],
   "source": [
    "# reshape into X=t and Y=t+1\n",
    "look_back = 3\n",
    "trainX, trainY = create_dataset(train, look_back)\n",
    "testX, testY = create_dataset(test, look_back)\n"
   ]
  },
  {
   "cell_type": "code",
   "execution_count": 23,
   "metadata": {},
   "outputs": [],
   "source": [
    "# reshape input to be [samples, time steps, features]\n",
    "trainX = numpy.reshape(trainX, (trainX.shape[0], trainX.shape[1], 1))\n",
    "testX = numpy.reshape(testX, (testX.shape[0], testX.shape[1], 1))\n"
   ]
  },
  {
   "cell_type": "code",
   "execution_count": 24,
   "metadata": {},
   "outputs": [
    {
     "name": "stdout",
     "output_type": "stream",
     "text": [
      "Epoch 1/100\n",
      "92/92 - 2s - loss: 0.0818 - 2s/epoch - 23ms/step\n",
      "Epoch 2/100\n",
      "92/92 - 0s - loss: 0.0411 - 225ms/epoch - 2ms/step\n",
      "Epoch 3/100\n",
      "92/92 - 0s - loss: 0.0288 - 240ms/epoch - 3ms/step\n",
      "Epoch 4/100\n",
      "92/92 - 0s - loss: 0.0248 - 305ms/epoch - 3ms/step\n",
      "Epoch 5/100\n",
      "92/92 - 0s - loss: 0.0229 - 261ms/epoch - 3ms/step\n",
      "Epoch 6/100\n",
      "92/92 - 0s - loss: 0.0217 - 287ms/epoch - 3ms/step\n",
      "Epoch 7/100\n",
      "92/92 - 0s - loss: 0.0206 - 270ms/epoch - 3ms/step\n",
      "Epoch 8/100\n",
      "92/92 - 0s - loss: 0.0195 - 318ms/epoch - 3ms/step\n",
      "Epoch 9/100\n",
      "92/92 - 0s - loss: 0.0184 - 229ms/epoch - 2ms/step\n",
      "Epoch 10/100\n",
      "92/92 - 0s - loss: 0.0172 - 247ms/epoch - 3ms/step\n",
      "Epoch 11/100\n",
      "92/92 - 0s - loss: 0.0162 - 362ms/epoch - 4ms/step\n",
      "Epoch 12/100\n",
      "92/92 - 0s - loss: 0.0150 - 249ms/epoch - 3ms/step\n",
      "Epoch 13/100\n",
      "92/92 - 0s - loss: 0.0139 - 279ms/epoch - 3ms/step\n",
      "Epoch 14/100\n",
      "92/92 - 0s - loss: 0.0127 - 269ms/epoch - 3ms/step\n",
      "Epoch 15/100\n",
      "92/92 - 0s - loss: 0.0113 - 283ms/epoch - 3ms/step\n",
      "Epoch 16/100\n",
      "92/92 - 0s - loss: 0.0100 - 376ms/epoch - 4ms/step\n",
      "Epoch 17/100\n",
      "92/92 - 0s - loss: 0.0087 - 379ms/epoch - 4ms/step\n",
      "Epoch 18/100\n",
      "92/92 - 0s - loss: 0.0076 - 268ms/epoch - 3ms/step\n",
      "Epoch 19/100\n",
      "92/92 - 0s - loss: 0.0065 - 280ms/epoch - 3ms/step\n",
      "Epoch 20/100\n",
      "92/92 - 0s - loss: 0.0056 - 253ms/epoch - 3ms/step\n",
      "Epoch 21/100\n",
      "92/92 - 0s - loss: 0.0049 - 254ms/epoch - 3ms/step\n",
      "Epoch 22/100\n",
      "92/92 - 0s - loss: 0.0045 - 280ms/epoch - 3ms/step\n",
      "Epoch 23/100\n",
      "92/92 - 0s - loss: 0.0043 - 225ms/epoch - 2ms/step\n",
      "Epoch 24/100\n",
      "92/92 - 0s - loss: 0.0042 - 246ms/epoch - 3ms/step\n",
      "Epoch 25/100\n",
      "92/92 - 0s - loss: 0.0041 - 322ms/epoch - 4ms/step\n",
      "Epoch 26/100\n",
      "92/92 - 0s - loss: 0.0042 - 224ms/epoch - 2ms/step\n",
      "Epoch 27/100\n",
      "92/92 - 0s - loss: 0.0041 - 270ms/epoch - 3ms/step\n",
      "Epoch 28/100\n",
      "92/92 - 0s - loss: 0.0040 - 360ms/epoch - 4ms/step\n",
      "Epoch 29/100\n",
      "92/92 - 0s - loss: 0.0041 - 207ms/epoch - 2ms/step\n",
      "Epoch 30/100\n",
      "92/92 - 0s - loss: 0.0040 - 186ms/epoch - 2ms/step\n",
      "Epoch 31/100\n",
      "92/92 - 0s - loss: 0.0040 - 187ms/epoch - 2ms/step\n",
      "Epoch 32/100\n",
      "92/92 - 0s - loss: 0.0038 - 183ms/epoch - 2ms/step\n",
      "Epoch 33/100\n",
      "92/92 - 0s - loss: 0.0038 - 278ms/epoch - 3ms/step\n",
      "Epoch 34/100\n",
      "92/92 - 0s - loss: 0.0038 - 199ms/epoch - 2ms/step\n",
      "Epoch 35/100\n",
      "92/92 - 0s - loss: 0.0039 - 162ms/epoch - 2ms/step\n",
      "Epoch 36/100\n",
      "92/92 - 0s - loss: 0.0038 - 189ms/epoch - 2ms/step\n",
      "Epoch 37/100\n",
      "92/92 - 0s - loss: 0.0037 - 181ms/epoch - 2ms/step\n",
      "Epoch 38/100\n",
      "92/92 - 0s - loss: 0.0038 - 207ms/epoch - 2ms/step\n",
      "Epoch 39/100\n",
      "92/92 - 0s - loss: 0.0037 - 191ms/epoch - 2ms/step\n",
      "Epoch 40/100\n",
      "92/92 - 0s - loss: 0.0036 - 231ms/epoch - 3ms/step\n",
      "Epoch 41/100\n",
      "92/92 - 0s - loss: 0.0037 - 199ms/epoch - 2ms/step\n",
      "Epoch 42/100\n",
      "92/92 - 0s - loss: 0.0036 - 217ms/epoch - 2ms/step\n",
      "Epoch 43/100\n",
      "92/92 - 0s - loss: 0.0038 - 196ms/epoch - 2ms/step\n",
      "Epoch 44/100\n",
      "92/92 - 0s - loss: 0.0034 - 184ms/epoch - 2ms/step\n",
      "Epoch 45/100\n",
      "92/92 - 0s - loss: 0.0036 - 179ms/epoch - 2ms/step\n",
      "Epoch 46/100\n",
      "92/92 - 0s - loss: 0.0034 - 181ms/epoch - 2ms/step\n",
      "Epoch 47/100\n",
      "92/92 - 0s - loss: 0.0035 - 208ms/epoch - 2ms/step\n",
      "Epoch 48/100\n",
      "92/92 - 0s - loss: 0.0038 - 209ms/epoch - 2ms/step\n",
      "Epoch 49/100\n",
      "92/92 - 0s - loss: 0.0034 - 192ms/epoch - 2ms/step\n",
      "Epoch 50/100\n",
      "92/92 - 0s - loss: 0.0035 - 194ms/epoch - 2ms/step\n",
      "Epoch 51/100\n",
      "92/92 - 0s - loss: 0.0033 - 195ms/epoch - 2ms/step\n",
      "Epoch 52/100\n",
      "92/92 - 0s - loss: 0.0033 - 195ms/epoch - 2ms/step\n",
      "Epoch 53/100\n",
      "92/92 - 0s - loss: 0.0034 - 162ms/epoch - 2ms/step\n",
      "Epoch 54/100\n",
      "92/92 - 0s - loss: 0.0034 - 211ms/epoch - 2ms/step\n",
      "Epoch 55/100\n",
      "92/92 - 0s - loss: 0.0034 - 204ms/epoch - 2ms/step\n",
      "Epoch 56/100\n",
      "92/92 - 0s - loss: 0.0033 - 204ms/epoch - 2ms/step\n",
      "Epoch 57/100\n",
      "92/92 - 0s - loss: 0.0033 - 197ms/epoch - 2ms/step\n",
      "Epoch 58/100\n",
      "92/92 - 0s - loss: 0.0032 - 216ms/epoch - 2ms/step\n",
      "Epoch 59/100\n",
      "92/92 - 0s - loss: 0.0033 - 198ms/epoch - 2ms/step\n",
      "Epoch 60/100\n",
      "92/92 - 0s - loss: 0.0033 - 207ms/epoch - 2ms/step\n",
      "Epoch 61/100\n",
      "92/92 - 0s - loss: 0.0032 - 189ms/epoch - 2ms/step\n",
      "Epoch 62/100\n",
      "92/92 - 0s - loss: 0.0031 - 212ms/epoch - 2ms/step\n",
      "Epoch 63/100\n",
      "92/92 - 0s - loss: 0.0032 - 203ms/epoch - 2ms/step\n",
      "Epoch 64/100\n",
      "92/92 - 0s - loss: 0.0031 - 211ms/epoch - 2ms/step\n",
      "Epoch 65/100\n",
      "92/92 - 0s - loss: 0.0031 - 188ms/epoch - 2ms/step\n",
      "Epoch 66/100\n",
      "92/92 - 0s - loss: 0.0031 - 206ms/epoch - 2ms/step\n",
      "Epoch 67/100\n",
      "92/92 - 0s - loss: 0.0031 - 193ms/epoch - 2ms/step\n",
      "Epoch 68/100\n",
      "92/92 - 0s - loss: 0.0031 - 186ms/epoch - 2ms/step\n",
      "Epoch 69/100\n",
      "92/92 - 0s - loss: 0.0031 - 198ms/epoch - 2ms/step\n",
      "Epoch 70/100\n",
      "92/92 - 0s - loss: 0.0030 - 167ms/epoch - 2ms/step\n",
      "Epoch 71/100\n",
      "92/92 - 0s - loss: 0.0030 - 175ms/epoch - 2ms/step\n",
      "Epoch 72/100\n",
      "92/92 - 0s - loss: 0.0029 - 211ms/epoch - 2ms/step\n",
      "Epoch 73/100\n",
      "92/92 - 0s - loss: 0.0029 - 216ms/epoch - 2ms/step\n",
      "Epoch 74/100\n",
      "92/92 - 0s - loss: 0.0029 - 211ms/epoch - 2ms/step\n",
      "Epoch 75/100\n",
      "92/92 - 0s - loss: 0.0028 - 197ms/epoch - 2ms/step\n",
      "Epoch 76/100\n",
      "92/92 - 0s - loss: 0.0029 - 194ms/epoch - 2ms/step\n",
      "Epoch 77/100\n",
      "92/92 - 0s - loss: 0.0029 - 192ms/epoch - 2ms/step\n",
      "Epoch 78/100\n",
      "92/92 - 0s - loss: 0.0028 - 185ms/epoch - 2ms/step\n",
      "Epoch 79/100\n",
      "92/92 - 0s - loss: 0.0029 - 191ms/epoch - 2ms/step\n",
      "Epoch 80/100\n",
      "92/92 - 0s - loss: 0.0028 - 201ms/epoch - 2ms/step\n",
      "Epoch 81/100\n",
      "92/92 - 0s - loss: 0.0028 - 225ms/epoch - 2ms/step\n",
      "Epoch 82/100\n",
      "92/92 - 0s - loss: 0.0027 - 207ms/epoch - 2ms/step\n",
      "Epoch 83/100\n",
      "92/92 - 0s - loss: 0.0027 - 187ms/epoch - 2ms/step\n",
      "Epoch 84/100\n",
      "92/92 - 0s - loss: 0.0027 - 188ms/epoch - 2ms/step\n",
      "Epoch 85/100\n",
      "92/92 - 0s - loss: 0.0027 - 195ms/epoch - 2ms/step\n",
      "Epoch 86/100\n",
      "92/92 - 0s - loss: 0.0026 - 207ms/epoch - 2ms/step\n",
      "Epoch 87/100\n",
      "92/92 - 0s - loss: 0.0025 - 240ms/epoch - 3ms/step\n",
      "Epoch 88/100\n",
      "92/92 - 0s - loss: 0.0026 - 200ms/epoch - 2ms/step\n",
      "Epoch 89/100\n",
      "92/92 - 0s - loss: 0.0027 - 165ms/epoch - 2ms/step\n",
      "Epoch 90/100\n",
      "92/92 - 0s - loss: 0.0026 - 179ms/epoch - 2ms/step\n",
      "Epoch 91/100\n",
      "92/92 - 0s - loss: 0.0026 - 234ms/epoch - 3ms/step\n",
      "Epoch 92/100\n",
      "92/92 - 0s - loss: 0.0025 - 251ms/epoch - 3ms/step\n",
      "Epoch 93/100\n",
      "92/92 - 0s - loss: 0.0025 - 193ms/epoch - 2ms/step\n",
      "Epoch 94/100\n",
      "92/92 - 0s - loss: 0.0024 - 186ms/epoch - 2ms/step\n",
      "Epoch 95/100\n",
      "92/92 - 0s - loss: 0.0025 - 198ms/epoch - 2ms/step\n",
      "Epoch 96/100\n",
      "92/92 - 0s - loss: 0.0025 - 256ms/epoch - 3ms/step\n",
      "Epoch 97/100\n",
      "92/92 - 0s - loss: 0.0024 - 220ms/epoch - 2ms/step\n",
      "Epoch 98/100\n",
      "92/92 - 0s - loss: 0.0024 - 193ms/epoch - 2ms/step\n",
      "Epoch 99/100\n",
      "92/92 - 0s - loss: 0.0023 - 191ms/epoch - 2ms/step\n",
      "Epoch 100/100\n",
      "92/92 - 0s - loss: 0.0024 - 179ms/epoch - 2ms/step\n"
     ]
    },
    {
     "data": {
      "text/plain": [
       "<keras.callbacks.History at 0x233b364d280>"
      ]
     },
     "execution_count": 24,
     "metadata": {},
     "output_type": "execute_result"
    }
   ],
   "source": [
    "# create and fit the LSTM network\n",
    "model = Sequential()\n",
    "model.add(LSTM(4, input_shape=(look_back, 1)))\n",
    "model.add(Dense(1))\n",
    "model.compile(loss='mean_squared_error', optimizer='adam')\n",
    "model.fit(trainX, trainY, epochs=100, batch_size=1, verbose=2)\n"
   ]
  },
  {
   "cell_type": "code",
   "execution_count": 25,
   "metadata": {},
   "outputs": [],
   "source": [
    "# make predictions\n",
    "trainPredict = model.predict(trainX)\n",
    "testPredict = model.predict(testX)\n"
   ]
  },
  {
   "cell_type": "code",
   "execution_count": 26,
   "metadata": {},
   "outputs": [],
   "source": [
    "# invert predictions\n",
    "trainPredict = scaler.inverse_transform(trainPredict)\n",
    "trainY = scaler.inverse_transform([trainY])\n",
    "testPredict = scaler.inverse_transform(testPredict)\n",
    "testY = scaler.inverse_transform([testY])\n"
   ]
  },
  {
   "cell_type": "code",
   "execution_count": 27,
   "metadata": {},
   "outputs": [
    {
     "name": "stdout",
     "output_type": "stream",
     "text": [
      "Train Score: 24.49 RMSE\n",
      "Test Score: 61.03 RMSE\n"
     ]
    }
   ],
   "source": [
    "# calculate root mean squared error\n",
    "trainScore = math.sqrt(mean_squared_error(trainY[0], trainPredict[:,0]))\n",
    "print('Train Score: %.2f RMSE' % (trainScore))\n",
    "testScore = math.sqrt(mean_squared_error(testY[0], testPredict[:,0]))\n",
    "print('Test Score: %.2f RMSE' % (testScore))\n"
   ]
  },
  {
   "cell_type": "code",
   "execution_count": 28,
   "metadata": {},
   "outputs": [],
   "source": [
    "# shift train predictions for plotting\n",
    "trainPredictPlot = numpy.empty_like(dataset)\n",
    "trainPredictPlot[:, :] = numpy.nan\n",
    "trainPredictPlot[look_back:len(trainPredict)+look_back, :] = trainPredict\n"
   ]
  },
  {
   "cell_type": "code",
   "execution_count": 29,
   "metadata": {},
   "outputs": [],
   "source": [
    "# shift test predictions for plotting\n",
    "testPredictPlot = numpy.empty_like(dataset)\n",
    "testPredictPlot[:, :] = numpy.nan\n",
    "testPredictPlot[len(trainPredict)+(look_back*2)+1:len(dataset)-1, :] = testPredict\n"
   ]
  },
  {
   "cell_type": "code",
   "execution_count": 30,
   "metadata": {},
   "outputs": [
    {
     "data": {
      "image/png": "[encoded data removed]",
      "text/plain": [
       "<Figure size 432x288 with 1 Axes>"
      ]
     },
     "metadata": {
      "needs_background": "light"
     },
     "output_type": "display_data"
    }
   ],
   "source": [
    "# plot baseline and predictions\n",
    "plt.plot(scaler.inverse_transform(dataset))\n",
    "plt.plot(trainPredictPlot)\n",
    "plt.plot(testPredictPlot)\n",
    "plt.show()"
   ]
  }
 ],
 "metadata": {
  "interpreter": {
   "hash": "8c37a36ebd41aa80f0775b11e4667c6bf8afd69f148c9200f15f10f807654d58"
  },
  "kernelspec": {
   "display_name": "Python 3.8.5 ('base')",
   "language": "python",
   "name": "python3"
  },
  "language_info": {
   "codemirror_mode": {
    "name": "ipython",
    "version": 3
   },
   "file_extension": ".py",
   "mimetype": "text/x-python",
   "name": "python",
   "nbconvert_exporter": "python",
   "pygments_lexer": "ipython3",
   "version": "3.8.5"
  },
  "orig_nbformat": 4
 },
 "nbformat": 4,
 "nbformat_minor": 2
}
